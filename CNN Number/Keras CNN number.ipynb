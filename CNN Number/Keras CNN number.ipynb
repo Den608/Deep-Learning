{
 "cells": [
  {
   "cell_type": "raw",
   "id": "293b45c0",
   "metadata": {},
   "source": [
    "pip install np_utils"
   ]
  },
  {
   "cell_type": "code",
   "execution_count": 6,
   "id": "18e3a3d1",
   "metadata": {},
   "outputs": [],
   "source": [
    "from keras.datasets import mnist\n",
    "import tensorflow.keras as keras\n",
    "import numpy as np\n",
    "\n",
    "np.random.seed(10)\n",
    "\n",
    "# Load the MNIST dataset # many hand wirte number\n",
    "(x_Train, y_Train), (x_Test, y_Test) = mnist.load_data()\n",
    "\n",
    "# Reshape the image data\n",
    "x_Train4D = x_Train.reshape(x_Train.shape[0], 28, 28, 1).astype('float32')\n",
    "x_Test4D = x_Test.reshape(x_Test.shape[0], 28, 28, 1).astype('float32')\n"
   ]
  },
  {
   "cell_type": "code",
   "execution_count": 40,
   "id": "226ccb8b",
   "metadata": {},
   "outputs": [
    {
     "data": {
      "text/plain": [
       "60000"
      ]
     },
     "execution_count": 40,
     "metadata": {},
     "output_type": "execute_result"
    }
   ],
   "source": [
    "len(y_Train)"
   ]
  },
  {
   "cell_type": "raw",
   "id": "28950bc2",
   "metadata": {},
   "source": [
    "mnist.load_data()"
   ]
  },
  {
   "cell_type": "code",
   "execution_count": 7,
   "id": "a9b472f2",
   "metadata": {},
   "outputs": [],
   "source": [
    "# 將 features 標準化\n",
    "x_Train4D_normalize = x_Train4D / 255\n",
    "x_Test4D_normalize = x_Test4D / 255\n",
    "\n",
    "# Perform one-hot encoding for labels\n",
    "num_classes = 10  # Number of classes (digits 0-9)\n",
    "\n",
    "y_TrainOneHot = keras.utils.to_categorical(y_Train, num_classes)\n",
    "y_TestOneHot = keras.utils.to_categorical(y_Test, num_classes)\n",
    "\n",
    "#########\n",
    "## step 2 建立模型：建立 CNN model\n",
    "from keras.models import Sequential\n",
    "from keras.layers import Dense,Dropout,Flatten,Conv2D,MaxPooling2D\n",
    "\n",
    "# 線性堆疊模型\n",
    "model = Sequential()"
   ]
  },
  {
   "cell_type": "code",
   "execution_count": 38,
   "id": "6ab03d76",
   "metadata": {},
   "outputs": [
    {
     "data": {
      "text/plain": [
       "array([[0., 0., 0., ..., 0., 0., 0.],\n",
       "       [1., 0., 0., ..., 0., 0., 0.],\n",
       "       [0., 0., 0., ..., 0., 0., 0.],\n",
       "       ...,\n",
       "       [0., 0., 0., ..., 0., 0., 0.],\n",
       "       [0., 0., 0., ..., 0., 0., 0.],\n",
       "       [0., 0., 0., ..., 0., 1., 0.]], dtype=float32)"
      ]
     },
     "execution_count": 38,
     "metadata": {},
     "output_type": "execute_result"
    }
   ],
   "source": [
    "y_TrainOneHot"
   ]
  },
  {
   "cell_type": "code",
   "execution_count": 8,
   "id": "d2e1fde2",
   "metadata": {},
   "outputs": [],
   "source": [
    "# 建立卷積層1\n",
    "# 輸入數字影像 28x28 的大小，執行一次卷積運算，產生 16 個影像，卷積運算不會改變影像大小，結果還是 28x28\n",
    "# filters=16             建立 16 個 filter weight\n",
    "# kernel_size=(5,5)      每一個濾鏡大小為 5x5\n",
    "# padding='same'         讓卷積運算產生的影像大小不變\n",
    "# input_shape=(28,28,1)  第1, 2 維，是輸入的影像形狀 28x28，第 3 維，因為是單色灰階影像，所以是 1\n",
    "# activation='relu'      設定 ReLU 激活函數\n",
    "model.add(Conv2D(filters=16,\n",
    "                 kernel_size=(5,5),\n",
    "                 padding='same',\n",
    "                 input_shape=(28,28,1),\n",
    "                 activation='relu'))\n"
   ]
  },
  {
   "cell_type": "code",
   "execution_count": 11,
   "id": "d719e005",
   "metadata": {},
   "outputs": [],
   "source": [
    "# 建立池化層\n",
    "# 輸入參數 pool_size=(2, 2)，執行第一次縮減取樣，將 16 個 28x28 影像，縮小為 16 個 14x14 的影像\n",
    "model.add(MaxPooling2D(pool_size=(2, 2)))"
   ]
  },
  {
   "cell_type": "code",
   "execution_count": 12,
   "id": "6609de47",
   "metadata": {},
   "outputs": [],
   "source": [
    "# 建立卷積層2\n",
    "# 執行第二次卷積運算，將原本的 16 個影像，轉換為 36 個影像，卷積運算不會改變影像大小，結果還是 14x14\n",
    "model.add(Conv2D(filters=36,\n",
    "                 kernel_size=(5,5),\n",
    "                 padding='same',\n",
    "                 activation='relu'))"
   ]
  },
  {
   "cell_type": "code",
   "execution_count": 13,
   "id": "ab073e37",
   "metadata": {},
   "outputs": [],
   "source": [
    "# 建立池化層2，並加入Dropout 避免 overfitting\n",
    "# 執行第二次縮減取樣，將 36 個 14x14 的影像，縮小為 36 個 7x7 的影像\n",
    "model.add(MaxPooling2D(pool_size=(2, 2)))\n",
    "model.add(Dropout(0.25))"
   ]
  },
  {
   "cell_type": "code",
   "execution_count": 14,
   "id": "c99a031f",
   "metadata": {},
   "outputs": [
    {
     "name": "stdout",
     "output_type": "stream",
     "text": [
      "Model: \"sequential\"\n",
      "_________________________________________________________________\n",
      " Layer (type)                Output Shape              Param #   \n",
      "=================================================================\n",
      " conv2d (Conv2D)             (None, 28, 28, 16)        416       \n",
      "                                                                 \n",
      " max_pooling2d (MaxPooling2  (None, 14, 14, 16)        0         \n",
      " D)                                                              \n",
      "                                                                 \n",
      " conv2d_1 (Conv2D)           (None, 14, 14, 36)        14436     \n",
      "                                                                 \n",
      " max_pooling2d_1 (MaxPoolin  (None, 7, 7, 36)          0         \n",
      " g2D)                                                            \n",
      "                                                                 \n",
      " dropout (Dropout)           (None, 7, 7, 36)          0         \n",
      "                                                                 \n",
      " flatten (Flatten)           (None, 1764)              0         \n",
      "                                                                 \n",
      " dense (Dense)               (None, 128)               225920    \n",
      "                                                                 \n",
      " dropout_1 (Dropout)         (None, 128)               0         \n",
      "                                                                 \n",
      " dense_1 (Dense)             (None, 10)                1290      \n",
      "                                                                 \n",
      "=================================================================\n",
      "Total params: 242062 (945.55 KB)\n",
      "Trainable params: 242062 (945.55 KB)\n",
      "Non-trainable params: 0 (0.00 Byte)\n",
      "_________________________________________________________________\n",
      "None\n"
     ]
    }
   ],
   "source": [
    "# 建立神經網路 (平坦層, 隱藏層, 輸出層)\n",
    "# 建立平坦層\n",
    "# 根據池化層2 的結果，共36 個 7x7 影像，轉換為 1維向量，長度是 36x7x7=1764，也就是 1764 個 float，正好對應到 1764 個神經元\n",
    "model.add(Flatten())\n",
    "# 建立隱藏層，共有 128 個神經元\n",
    "model.add(Dense(128, activation='relu'))\n",
    "# 加入 Dropout(0.5)\n",
    "# 每次訓練迭代時，會隨機在神經網路中，放棄 50% 的神經元，以避免 overfitting\n",
    "model.add(Dropout(0.5))\n",
    "# 建立輸出層\n",
    "# 共 10 個神經元，對應 0~9 共 10 個數字，並使用 softmax 激活函數進行轉換\n",
    "# softmax 可將神經元的輸出，轉換為預測每一個數字的機率\n",
    "model.add(Dense(10,activation='softmax'))\n",
    "\n",
    "print(model.summary())"
   ]
  },
  {
   "cell_type": "code",
   "execution_count": 15,
   "id": "b11bc8e2",
   "metadata": {},
   "outputs": [
    {
     "name": "stdout",
     "output_type": "stream",
     "text": [
      "Epoch 1/20\n",
      "160/160 - 14s - loss: 0.4918 - accuracy: 0.8461 - val_loss: 0.1036 - val_accuracy: 0.9685 - 14s/epoch - 85ms/step\n",
      "Epoch 2/20\n",
      "160/160 - 13s - loss: 0.1404 - accuracy: 0.9589 - val_loss: 0.0666 - val_accuracy: 0.9797 - 13s/epoch - 81ms/step\n",
      "Epoch 3/20\n",
      "160/160 - 14s - loss: 0.0988 - accuracy: 0.9707 - val_loss: 0.0514 - val_accuracy: 0.9848 - 14s/epoch - 85ms/step\n",
      "Epoch 4/20\n",
      "160/160 - 17s - loss: 0.0814 - accuracy: 0.9762 - val_loss: 0.0461 - val_accuracy: 0.9860 - 17s/epoch - 104ms/step\n",
      "Epoch 5/20\n",
      "160/160 - 17s - loss: 0.0696 - accuracy: 0.9784 - val_loss: 0.0422 - val_accuracy: 0.9873 - 17s/epoch - 105ms/step\n",
      "Epoch 6/20\n",
      "160/160 - 15s - loss: 0.0605 - accuracy: 0.9820 - val_loss: 0.0402 - val_accuracy: 0.9883 - 15s/epoch - 95ms/step\n",
      "Epoch 7/20\n",
      "160/160 - 14s - loss: 0.0561 - accuracy: 0.9834 - val_loss: 0.0394 - val_accuracy: 0.9884 - 14s/epoch - 90ms/step\n",
      "Epoch 8/20\n",
      "160/160 - 14s - loss: 0.0501 - accuracy: 0.9850 - val_loss: 0.0371 - val_accuracy: 0.9895 - 14s/epoch - 90ms/step\n",
      "Epoch 9/20\n",
      "160/160 - 15s - loss: 0.0439 - accuracy: 0.9860 - val_loss: 0.0357 - val_accuracy: 0.9887 - 15s/epoch - 96ms/step\n",
      "Epoch 10/20\n",
      "160/160 - 13s - loss: 0.0400 - accuracy: 0.9881 - val_loss: 0.0328 - val_accuracy: 0.9898 - 13s/epoch - 79ms/step\n",
      "Epoch 11/20\n",
      "160/160 - 13s - loss: 0.0379 - accuracy: 0.9881 - val_loss: 0.0307 - val_accuracy: 0.9912 - 13s/epoch - 79ms/step\n",
      "Epoch 12/20\n",
      "160/160 - 13s - loss: 0.0367 - accuracy: 0.9882 - val_loss: 0.0300 - val_accuracy: 0.9908 - 13s/epoch - 83ms/step\n",
      "Epoch 13/20\n",
      "160/160 - 16s - loss: 0.0319 - accuracy: 0.9902 - val_loss: 0.0322 - val_accuracy: 0.9912 - 16s/epoch - 100ms/step\n",
      "Epoch 14/20\n",
      "160/160 - 16s - loss: 0.0326 - accuracy: 0.9895 - val_loss: 0.0317 - val_accuracy: 0.9906 - 16s/epoch - 101ms/step\n",
      "Epoch 15/20\n",
      "160/160 - 16s - loss: 0.0292 - accuracy: 0.9908 - val_loss: 0.0327 - val_accuracy: 0.9910 - 16s/epoch - 100ms/step\n",
      "Epoch 16/20\n",
      "160/160 - 17s - loss: 0.0280 - accuracy: 0.9904 - val_loss: 0.0316 - val_accuracy: 0.9906 - 17s/epoch - 107ms/step\n",
      "Epoch 17/20\n",
      "160/160 - 17s - loss: 0.0273 - accuracy: 0.9915 - val_loss: 0.0316 - val_accuracy: 0.9911 - 17s/epoch - 109ms/step\n",
      "Epoch 18/20\n",
      "160/160 - 16s - loss: 0.0245 - accuracy: 0.9925 - val_loss: 0.0298 - val_accuracy: 0.9917 - 16s/epoch - 103ms/step\n",
      "Epoch 19/20\n",
      "160/160 - 17s - loss: 0.0231 - accuracy: 0.9923 - val_loss: 0.0296 - val_accuracy: 0.9916 - 17s/epoch - 103ms/step\n",
      "Epoch 20/20\n",
      "160/160 - 16s - loss: 0.0219 - accuracy: 0.9927 - val_loss: 0.0293 - val_accuracy: 0.9917 - 16s/epoch - 98ms/step\n"
     ]
    }
   ],
   "source": [
    "#######\n",
    "## 訓練模型：輸入 features, label，執行 10 次訓練週期\n",
    "model.compile(loss='categorical_crossentropy',\n",
    "              optimizer='adam',metrics=['accuracy'])\n",
    "\n",
    "# validation_split=0.2   80% 為訓練資料, 20% 驗證資料\n",
    "# batch_size=300         每一批次300 筆資料\n",
    "# verbose=2              顯示訓練過程\n",
    "train_history=model.fit(x=x_Train4D_normalize,\n",
    "                        y=y_TrainOneHot,validation_split=0.2,\n",
    "                        epochs=20, batch_size=300,verbose=2)"
   ]
  },
  {
   "cell_type": "code",
   "execution_count": 16,
   "id": "14615e4d",
   "metadata": {},
   "outputs": [],
   "source": [
    "# 模型訓練結果 結構存檔\n",
    "from keras.models import model_from_json\n",
    "json_string = model.to_json()\n",
    "with open(\"model.config\", \"w\") as text_file:\n",
    "    text_file.write(json_string)"
   ]
  },
  {
   "cell_type": "code",
   "execution_count": 17,
   "id": "abb7f331",
   "metadata": {},
   "outputs": [],
   "source": [
    "import matplotlib.pyplot as plt\n",
    "def save_train_history(train_acc,test_acc, filename):\n",
    "    plt.clf()\n",
    "    plt.plot(train_history.history[train_acc])\n",
    "    plt.plot(train_history.history[test_acc])\n",
    "    plt.title('Train History')\n",
    "    plt.ylabel('Accuracy')\n",
    "    plt.xlabel('Epoch')\n",
    "    plt.legend(['train', 'test'], loc='upper left')\n",
    "    plt.savefig(filename)"
   ]
  },
  {
   "cell_type": "code",
   "execution_count": 18,
   "id": "49c5d21a",
   "metadata": {},
   "outputs": [
    {
     "data": {
      "image/png": "[encoded data removed]",
      "text/plain": [
       "<Figure size 640x480 with 1 Axes>"
      ]
     },
     "metadata": {},
     "output_type": "display_data"
    }
   ],
   "source": [
    "save_train_history('accuracy','val_accuracy', 'acc.png')\n",
    "\n",
    "save_train_history('loss','val_loss', 'loss.png')"
   ]
  },
  {
   "cell_type": "code",
   "execution_count": 35,
   "id": "4b887ad2",
   "metadata": {},
   "outputs": [
    {
     "name": "stdout",
     "output_type": "stream",
     "text": [
      "313/313 [==============================] - 2s 5ms/step - loss: 0.0220 - accuracy: 0.9926\n",
      "313/313 [==============================] - 1s 5ms/step\n"
     ]
    },
    {
     "data": {
      "text/plain": [
       "array([7, 2, 1, 0, 4, 1, 4, 9, 5, 9], dtype=int64)"
      ]
     },
     "execution_count": 35,
     "metadata": {},
     "output_type": "execute_result"
    }
   ],
   "source": [
    "#####\n",
    "# step 4 評估模型準確率：使用測試資料評估模型準確率\n",
    "\n",
    "scores = model.evaluate(x_Test4D_normalize , y_TestOneHot)\n",
    "scores[1]\n",
    "\n",
    "#####\n",
    "# step 5 預測：利用 model，輸入測試資料進行預測\n",
    "prediction = model.predict(x_Test4D_normalize)\n",
    "\n",
    "# # Extract the class labels with the highest probability as predictions\n",
    "prediction = np.argmax(predictions, axis=1)\n",
    "\n",
    "# # Display the first 10 predicted classes\n",
    "prediction[:10]\n"
   ]
  },
  {
   "cell_type": "code",
   "execution_count": 36,
   "id": "30278082",
   "metadata": {},
   "outputs": [
    {
     "data": {
      "image/png": "[encoded data removed]",
      "text/plain": [
       "<Figure size 1200x1400 with 10 Axes>"
      ]
     },
     "metadata": {},
     "output_type": "display_data"
    }
   ],
   "source": [
    "# 查看預測結果\n",
    "import matplotlib.pyplot as plt\n",
    "def plot_images_labels_prediction(images,labels,prediction,filename, idx, num=10):\n",
    "    fig = plt.gcf()\n",
    "    fig.set_size_inches(12, 14)\n",
    "    if num>25: num=25\n",
    "    for i in range(0, num):\n",
    "        ax=plt.subplot(5,5, 1+i)\n",
    "        ax.imshow(images[idx], cmap='binary')\n",
    "\n",
    "        ax.set_title(\"label=\" +str(labels[idx])+\n",
    "                     \",predict=\"+str(prediction[idx])\n",
    "                     ,fontsize=10)\n",
    "\n",
    "        ax.set_xticks([]);ax.set_yticks([])\n",
    "        idx+=1\n",
    "    plt.savefig(filename)\n",
    "    \n",
    "plot_images_labels_prediction(x_Test,y_Test, prediction, 'predict.png', idx=0)"
   ]
  },
  {
   "cell_type": "code",
   "execution_count": 37,
   "id": "563822db",
   "metadata": {},
   "outputs": [
    {
     "name": "stdout",
     "output_type": "stream",
     "text": [
      "\n",
      "predict    0     1     2     3    4    5    6     7    8    9\n",
      "label                                                        \n",
      "0        978     0     0     1    0    0    0     0    1    0\n",
      "1          0  1134     1     0    0    0    0     0    0    0\n",
      "2          0     0  1030     0    0    0    0     2    0    0\n",
      "3          0     0     1  1005    0    2    0     1    1    0\n",
      "4          0     0     0     0  975    0    0     1    2    4\n",
      "5          1     0     0     7    0  882    1     0    0    1\n",
      "6          3     2     1     0    3    3  944     0    2    0\n",
      "7          0     2     5     2    0    0    0  1017    1    1\n",
      "8          2     0     1     2    0    0    0     2  965    2\n",
      "9          0     1     1     1    3    5    0     2    0  996\n"
     ]
    },
    {
     "data": {
      "text/html": [
       "<div>\n",
       "<style scoped>\n",
       "    .dataframe tbody tr th:only-of-type {\n",
       "        vertical-align: middle;\n",
       "    }\n",
       "\n",
       "    .dataframe tbody tr th {\n",
       "        vertical-align: top;\n",
       "    }\n",
       "\n",
       "    .dataframe thead th {\n",
       "        text-align: right;\n",
       "    }\n",
       "</style>\n",
       "<table border=\"1\" class=\"dataframe\">\n",
       "  <thead>\n",
       "    <tr style=\"text-align: right;\">\n",
       "      <th></th>\n",
       "      <th>label</th>\n",
       "      <th>predict</th>\n",
       "    </tr>\n",
       "  </thead>\n",
       "  <tbody>\n",
       "    <tr>\n",
       "      <th>340</th>\n",
       "      <td>5</td>\n",
       "      <td>3</td>\n",
       "    </tr>\n",
       "    <tr>\n",
       "      <th>674</th>\n",
       "      <td>5</td>\n",
       "      <td>3</td>\n",
       "    </tr>\n",
       "    <tr>\n",
       "      <th>1393</th>\n",
       "      <td>5</td>\n",
       "      <td>3</td>\n",
       "    </tr>\n",
       "    <tr>\n",
       "      <th>2369</th>\n",
       "      <td>5</td>\n",
       "      <td>3</td>\n",
       "    </tr>\n",
       "    <tr>\n",
       "      <th>2597</th>\n",
       "      <td>5</td>\n",
       "      <td>3</td>\n",
       "    </tr>\n",
       "    <tr>\n",
       "      <th>4360</th>\n",
       "      <td>5</td>\n",
       "      <td>3</td>\n",
       "    </tr>\n",
       "    <tr>\n",
       "      <th>5937</th>\n",
       "      <td>5</td>\n",
       "      <td>3</td>\n",
       "    </tr>\n",
       "  </tbody>\n",
       "</table>\n",
       "</div>"
      ],
      "text/plain": [
       "      label  predict\n",
       "340       5        3\n",
       "674       5        3\n",
       "1393      5        3\n",
       "2369      5        3\n",
       "2597      5        3\n",
       "4360      5        3\n",
       "5937      5        3"
      ]
     },
     "execution_count": 37,
     "metadata": {},
     "output_type": "execute_result"
    }
   ],
   "source": [
    "####\n",
    "# confusion maxtrix\n",
    "\n",
    "import pandas as pd\n",
    "crosstab1 = pd.crosstab(y_Test,prediction,\n",
    "            rownames=['label'],colnames=['predict'])\n",
    "\n",
    "print()\n",
    "print(crosstab1)\n",
    "\n",
    "df = pd.DataFrame({'label':y_Test, 'predict':prediction})\n",
    "\n",
    "df[(df.label==5)&(df.predict==3)]"
   ]
  },
  {
   "cell_type": "code",
   "execution_count": null,
   "id": "81a8453f",
   "metadata": {},
   "outputs": [],
   "source": []
  }
 ],
 "metadata": {
  "kernelspec": {
   "display_name": "Python 3 (ipykernel)",
   "language": "python",
   "name": "python3"
  },
  "language_info": {
   "codemirror_mode": {
    "name": "ipython",
    "version": 3
   },
   "file_extension": ".py",
   "mimetype": "text/x-python",
   "name": "python",
   "nbconvert_exporter": "python",
   "pygments_lexer": "ipython3",
   "version": "3.10.9"
  },
  "toc": {
   "base_numbering": 1,
   "nav_menu": {},
   "number_sections": true,
   "sideBar": true,
   "skip_h1_title": false,
   "title_cell": "Table of Contents",
   "title_sidebar": "Contents",
   "toc_cell": false,
   "toc_position": {},
   "toc_section_display": true,
   "toc_window_display": false
  },
  "varInspector": {
   "cols": {
    "lenName": 16,
    "lenType": 16,
    "lenVar": 40
   },
   "kernels_config": {
    "python": {
     "delete_cmd_postfix": "",
     "delete_cmd_prefix": "del ",
     "library": "var_list.py",
     "varRefreshCmd": "print(var_dic_list())"
    },
    "r": {
     "delete_cmd_postfix": ") ",
     "delete_cmd_prefix": "rm(",
     "library": "var_list.r",
     "varRefreshCmd": "cat(var_dic_list()) "
    }
   },
   "types_to_exclude": [
    "module",
    "function",
    "builtin_function_or_method",
    "instance",
    "_Feature"
   ],
   "window_display": false
  }
 },
 "nbformat": 4,
 "nbformat_minor": 5
}
