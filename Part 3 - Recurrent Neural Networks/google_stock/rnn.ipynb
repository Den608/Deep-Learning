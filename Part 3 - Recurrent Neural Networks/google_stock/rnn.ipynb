{
 "cells": [
  {
   "cell_type": "markdown",
   "metadata": {
    "colab_type": "text",
    "id": "xpAuMVCwfWs8"
   },
   "source": [
    "# Recurrent Neural Network"
   ]
  },
  {
   "cell_type": "markdown",
   "metadata": {
    "colab_type": "text",
    "id": "nxJfRe4bfYVA"
   },
   "source": [
    "## Part 1 - Data Preprocessing"
   ]
  },
  {
   "cell_type": "markdown",
   "metadata": {
    "colab_type": "text",
    "id": "ir9zwETrfbrp"
   },
   "source": [
    "### Importing the libraries"
   ]
  },
  {
   "cell_type": "code",
   "execution_count": 16,
   "metadata": {
    "colab": {},
    "colab_type": "code",
    "id": "ZT1f24vHffuf"
   },
   "outputs": [],
   "source": [
    "import numpy as np\n",
    "import matplotlib.pyplot as plt\n",
    "import pandas as pd"
   ]
  },
  {
   "cell_type": "markdown",
   "metadata": {
    "colab_type": "text",
    "id": "nQ47JAxrgmaL"
   },
   "source": [
    "### Importing the training set"
   ]
  },
  {
   "cell_type": "code",
   "execution_count": 17,
   "metadata": {
    "colab": {},
    "colab_type": "code",
    "id": "1xiv3pJOgqY3"
   },
   "outputs": [
    {
     "name": "stdout",
     "output_type": "stream",
     "text": [
      "            Date    Open    High     Low   Close      Volume\n",
      "0       1/3/2012  325.25  332.83  324.97  663.59   7,380,500\n",
      "1       1/4/2012  331.27  333.87  329.08  666.45   5,749,400\n",
      "2       1/5/2012  329.83  330.75  326.89  657.21   6,590,300\n",
      "3       1/6/2012  328.34  328.77  323.68  648.24   5,405,900\n",
      "4       1/9/2012  322.04  322.29  309.46  620.76  11,688,800\n",
      "...          ...     ...     ...     ...     ...         ...\n",
      "1253  12/23/2016  790.90  792.74  787.28  789.91     623,400\n",
      "1254  12/27/2016  790.68  797.86  787.66  791.55     789,100\n",
      "1255  12/28/2016  793.70  794.23  783.20  785.05   1,153,800\n",
      "1256  12/29/2016  783.33  785.93  778.92  782.79     744,300\n",
      "1257  12/30/2016  782.75  782.78  770.41  771.82   1,770,000\n",
      "\n",
      "[1258 rows x 6 columns]\n",
      "[[325.25]\n",
      " [331.27]\n",
      " [329.83]\n",
      " ...\n",
      " [793.7 ]\n",
      " [783.33]\n",
      " [782.75]]\n"
     ]
    }
   ],
   "source": [
    "dataset_train = pd.read_csv('Google_Stock_Price_Train.csv')\n",
    "training_set = dataset_train.iloc[:, 1:2].values ## only take the price\n",
    "print(dataset_train)\n",
    "print(training_set)"
   ]
  },
  {
   "cell_type": "markdown",
   "metadata": {
    "colab_type": "text",
    "id": "HT8_2UJegtG5"
   },
   "source": [
    "### Feature Scaling"
   ]
  },
  {
   "cell_type": "code",
   "execution_count": 18,
   "metadata": {
    "colab": {},
    "colab_type": "code",
    "id": "OTrF2kR7gx9x"
   },
   "outputs": [
    {
     "data": {
      "text/plain": [
       "array([[0.08581368],\n",
       "       [0.09701243],\n",
       "       [0.09433366],\n",
       "       ...,\n",
       "       [0.95725128],\n",
       "       [0.93796041],\n",
       "       [0.93688146]])"
      ]
     },
     "execution_count": 18,
     "metadata": {},
     "output_type": "execute_result"
    }
   ],
   "source": [
    "from sklearn.preprocessing import MinMaxScaler\n",
    "sc = MinMaxScaler(feature_range = (0, 1))\n",
    "training_set_scaled = sc.fit_transform(training_set)\n",
    "training_set_scaled "
   ]
  },
  {
   "cell_type": "markdown",
   "metadata": {
    "colab_type": "text",
    "id": "JyYgYocqhNUg"
   },
   "source": [
    "### Creating a data structure with 60 timesteps and 1 output"
   ]
  },
  {
   "cell_type": "code",
   "execution_count": 19,
   "metadata": {
    "colab": {},
    "colab_type": "code",
    "id": "iofU21B0i6ST"
   },
   "outputs": [
    {
     "name": "stdout",
     "output_type": "stream",
     "text": [
      "[[0.08581368 0.09701243 0.09433366 ... 0.07846566 0.08034452 0.08497656]\n",
      " [0.09701243 0.09433366 0.09156187 ... 0.08034452 0.08497656 0.08627874]\n",
      " [0.09433366 0.09156187 0.07984225 ... 0.08497656 0.08627874 0.08471612]\n",
      " ...\n",
      " [0.92106928 0.92438053 0.93048218 ... 0.95475854 0.95204256 0.95163331]\n",
      " [0.92438053 0.93048218 0.9299055  ... 0.95204256 0.95163331 0.95725128]\n",
      " [0.93048218 0.9299055  0.93113327 ... 0.95163331 0.95725128 0.93796041]]\n"
     ]
    },
    {
     "data": {
      "text/plain": [
       "array([0.08627874, 0.08471612, 0.07454052, ..., 0.95725128, 0.93796041,\n",
       "       0.93688146])"
      ]
     },
     "execution_count": 19,
     "metadata": {},
     "output_type": "execute_result"
    }
   ],
   "source": [
    "X_train = []\n",
    "y_train = []\n",
    "for i in range(60, 1258):\n",
    "    X_train.append(training_set_scaled[i-60:i, 0]) # 0 means choose array first dim\n",
    "    y_train.append(training_set_scaled[i, 0])\n",
    "X_train, y_train = np.array(X_train), np.array(y_train)\n",
    "print(X_train)\n",
    "y_train"
   ]
  },
  {
   "cell_type": "markdown",
   "metadata": {
    "colab_type": "text",
    "id": "D8yaN7Zvi95l"
   },
   "source": [
    "### Reshaping"
   ]
  },
  {
   "cell_type": "code",
   "execution_count": 20,
   "metadata": {
    "colab": {},
    "colab_type": "code",
    "id": "FOXqJHmNjBkz"
   },
   "outputs": [
    {
     "data": {
      "text/plain": [
       "array([[[0.08581368],\n",
       "        [0.09701243],\n",
       "        [0.09433366],\n",
       "        ...,\n",
       "        [0.07846566],\n",
       "        [0.08034452],\n",
       "        [0.08497656]],\n",
       "\n",
       "       [[0.09701243],\n",
       "        [0.09433366],\n",
       "        [0.09156187],\n",
       "        ...,\n",
       "        [0.08034452],\n",
       "        [0.08497656],\n",
       "        [0.08627874]],\n",
       "\n",
       "       [[0.09433366],\n",
       "        [0.09156187],\n",
       "        [0.07984225],\n",
       "        ...,\n",
       "        [0.08497656],\n",
       "        [0.08627874],\n",
       "        [0.08471612]],\n",
       "\n",
       "       ...,\n",
       "\n",
       "       [[0.92106928],\n",
       "        [0.92438053],\n",
       "        [0.93048218],\n",
       "        ...,\n",
       "        [0.95475854],\n",
       "        [0.95204256],\n",
       "        [0.95163331]],\n",
       "\n",
       "       [[0.92438053],\n",
       "        [0.93048218],\n",
       "        [0.9299055 ],\n",
       "        ...,\n",
       "        [0.95204256],\n",
       "        [0.95163331],\n",
       "        [0.95725128]],\n",
       "\n",
       "       [[0.93048218],\n",
       "        [0.9299055 ],\n",
       "        [0.93113327],\n",
       "        ...,\n",
       "        [0.95163331],\n",
       "        [0.95725128],\n",
       "        [0.93796041]]])"
      ]
     },
     "execution_count": 20,
     "metadata": {},
     "output_type": "execute_result"
    }
   ],
   "source": [
    "X_train = np.reshape(X_train, (X_train.shape[0], X_train.shape[1], 1)) # it also add one more dimension\n",
    "X_train"
   ]
  },
  {
   "cell_type": "markdown",
   "metadata": {
    "colab_type": "text",
    "id": "ZRRSOJeVjEWV"
   },
   "source": [
    "## Part 2 - Building and Training the RNN"
   ]
  },
  {
   "cell_type": "markdown",
   "metadata": {
    "colab_type": "text",
    "id": "k4XV88JMjHXG"
   },
   "source": [
    "### Importing the Keras libraries and packages"
   ]
  },
  {
   "cell_type": "code",
   "execution_count": 21,
   "metadata": {
    "colab": {
     "base_uri": "https://localhost:8080/",
     "height": 34
    },
    "colab_type": "code",
    "id": "9JRnqsxEjKsD",
    "outputId": "b3e23e78-18aa-4396-c923-c877b8de60e4"
   },
   "outputs": [],
   "source": [
    "from keras.models import Sequential\n",
    "from keras.layers import Dense\n",
    "from keras.layers import LSTM\n",
    "from keras.layers import Dropout"
   ]
  },
  {
   "cell_type": "markdown",
   "metadata": {
    "colab_type": "text",
    "id": "FEIE-1s9jNzC"
   },
   "source": [
    "### Initialising the RNN"
   ]
  },
  {
   "cell_type": "code",
   "execution_count": 22,
   "metadata": {
    "colab": {},
    "colab_type": "code",
    "id": "1338dJ0UjRKH"
   },
   "outputs": [],
   "source": [
    "regressor = Sequential()"
   ]
  },
  {
   "cell_type": "markdown",
   "metadata": {
    "colab_type": "text",
    "id": "62eg1OPGjT8z"
   },
   "source": [
    "### Adding the first LSTM layer and some Dropout regularisation"
   ]
  },
  {
   "cell_type": "code",
   "execution_count": 23,
   "metadata": {
    "colab": {},
    "colab_type": "code",
    "id": "2hIinyXUjbVU"
   },
   "outputs": [],
   "source": [
    "regressor.add(LSTM(units = 50, return_sequences = True, input_shape = (X_train.shape[1], 1))) \n",
    "# input_shape to how long and y\n",
    "regressor.add(Dropout(0.2)) # 20% network will be ignored, it is a regularation "
   ]
  },
  {
   "cell_type": "markdown",
   "metadata": {
    "colab_type": "text",
    "id": "3XBIYLyOjlMx"
   },
   "source": [
    "### Adding a second LSTM layer and some Dropout regularisation"
   ]
  },
  {
   "cell_type": "code",
   "execution_count": 24,
   "metadata": {
    "colab": {},
    "colab_type": "code",
    "id": "UG7nrVaSjuZ2"
   },
   "outputs": [],
   "source": [
    "regressor.add(LSTM(units = 50, return_sequences = True))\n",
    "regressor.add(Dropout(0.2))"
   ]
  },
  {
   "cell_type": "markdown",
   "metadata": {
    "colab_type": "text",
    "id": "Ey3fHVnGj1cu"
   },
   "source": [
    "### Adding a third LSTM layer and some Dropout regularisation"
   ]
  },
  {
   "cell_type": "code",
   "execution_count": 25,
   "metadata": {
    "colab": {},
    "colab_type": "code",
    "id": "PuNi6PgFj7jO"
   },
   "outputs": [],
   "source": [
    "regressor.add(LSTM(units = 50, return_sequences = True))\n",
    "regressor.add(Dropout(0.2))"
   ]
  },
  {
   "cell_type": "markdown",
   "metadata": {
    "colab_type": "text",
    "id": "SYTrtfTmj933"
   },
   "source": [
    "### Adding a fourth LSTM layer and some Dropout regularisation"
   ]
  },
  {
   "cell_type": "code",
   "execution_count": 26,
   "metadata": {
    "colab": {},
    "colab_type": "code",
    "id": "Jp4Ty8fRkBYV"
   },
   "outputs": [],
   "source": [
    "regressor.add(LSTM(units = 50)) # return_sequences defualt is False, when last layer use False\n",
    "regressor.add(Dropout(0.2))"
   ]
  },
  {
   "cell_type": "markdown",
   "metadata": {
    "colab_type": "text",
    "id": "9ABI6rOIkHhk"
   },
   "source": [
    "### Adding the output layer"
   ]
  },
  {
   "cell_type": "code",
   "execution_count": 27,
   "metadata": {
    "colab": {},
    "colab_type": "code",
    "id": "aM6R1z4WkME8"
   },
   "outputs": [],
   "source": [
    "regressor.add(Dense(units = 1))"
   ]
  },
  {
   "cell_type": "markdown",
   "metadata": {
    "colab_type": "text",
    "id": "zLx4K7uUkPSh"
   },
   "source": [
    "### Compiling the RNN"
   ]
  },
  {
   "cell_type": "code",
   "execution_count": 28,
   "metadata": {
    "colab": {},
    "colab_type": "code",
    "id": "XTrhVN-tkbko"
   },
   "outputs": [],
   "source": [
    "regressor.compile(optimizer = 'adam', loss = 'mean_squared_error') # https://keras.io/api/optimizers/"
   ]
  },
  {
   "cell_type": "markdown",
   "metadata": {
    "colab_type": "text",
    "id": "-mPhwKGkkebi"
   },
   "source": [
    "### Fitting the RNN to the Training set"
   ]
  },
  {
   "cell_type": "code",
   "execution_count": 29,
   "metadata": {
    "colab": {
     "base_uri": "https://localhost:8080/",
     "height": 1000
    },
    "colab_type": "code",
    "id": "I06Nkrz5kkb-",
    "outputId": "dc9d947a-4d5c-4dbc-ed45-31bf44b98dfb"
   },
   "outputs": [
    {
     "name": "stdout",
     "output_type": "stream",
     "text": [
      "Epoch 1/100\n",
      "38/38 [==============================] - 9s 59ms/step - loss: 0.0347\n",
      "Epoch 2/100\n",
      "38/38 [==============================] - 2s 59ms/step - loss: 0.0064\n",
      "Epoch 3/100\n",
      "38/38 [==============================] - 2s 60ms/step - loss: 0.0059\n",
      "Epoch 4/100\n",
      "38/38 [==============================] - 2s 64ms/step - loss: 0.0056\n",
      "Epoch 5/100\n",
      "38/38 [==============================] - 2s 64ms/step - loss: 0.0047\n",
      "Epoch 6/100\n",
      "38/38 [==============================] - 2s 65ms/step - loss: 0.0050\n",
      "Epoch 7/100\n",
      "38/38 [==============================] - 2s 59ms/step - loss: 0.0047\n",
      "Epoch 8/100\n",
      "38/38 [==============================] - 2s 59ms/step - loss: 0.0046\n",
      "Epoch 9/100\n",
      "38/38 [==============================] - 2s 60ms/step - loss: 0.0049\n",
      "Epoch 10/100\n",
      "38/38 [==============================] - 2s 63ms/step - loss: 0.0050\n",
      "Epoch 11/100\n",
      "38/38 [==============================] - 2s 64ms/step - loss: 0.0042\n",
      "Epoch 12/100\n",
      "38/38 [==============================] - 2s 62ms/step - loss: 0.0043\n",
      "Epoch 13/100\n",
      "38/38 [==============================] - 2s 64ms/step - loss: 0.0038\n",
      "Epoch 14/100\n",
      "38/38 [==============================] - 2s 61ms/step - loss: 0.0036\n",
      "Epoch 15/100\n",
      "38/38 [==============================] - 2s 59ms/step - loss: 0.0038\n",
      "Epoch 16/100\n",
      "38/38 [==============================] - 2s 60ms/step - loss: 0.0045\n",
      "Epoch 17/100\n",
      "38/38 [==============================] - 2s 59ms/step - loss: 0.0039\n",
      "Epoch 18/100\n",
      "38/38 [==============================] - 2s 62ms/step - loss: 0.0032\n",
      "Epoch 19/100\n",
      "38/38 [==============================] - 2s 59ms/step - loss: 0.0034\n",
      "Epoch 20/100\n",
      "38/38 [==============================] - 2s 56ms/step - loss: 0.0033\n",
      "Epoch 21/100\n",
      "38/38 [==============================] - 2s 57ms/step - loss: 0.0036\n",
      "Epoch 22/100\n",
      "38/38 [==============================] - 2s 54ms/step - loss: 0.0042\n",
      "Epoch 23/100\n",
      "38/38 [==============================] - 2s 58ms/step - loss: 0.0035\n",
      "Epoch 24/100\n",
      "38/38 [==============================] - 2s 48ms/step - loss: 0.0032\n",
      "Epoch 25/100\n",
      "38/38 [==============================] - 2s 46ms/step - loss: 0.0033\n",
      "Epoch 26/100\n",
      "38/38 [==============================] - 2s 49ms/step - loss: 0.0032\n",
      "Epoch 27/100\n",
      "38/38 [==============================] - 2s 50ms/step - loss: 0.0037\n",
      "Epoch 28/100\n",
      "38/38 [==============================] - 2s 60ms/step - loss: 0.0028\n",
      "Epoch 29/100\n",
      "38/38 [==============================] - 2s 61ms/step - loss: 0.0029\n",
      "Epoch 30/100\n",
      "38/38 [==============================] - 2s 63ms/step - loss: 0.0031\n",
      "Epoch 31/100\n",
      "38/38 [==============================] - 2s 63ms/step - loss: 0.0032\n",
      "Epoch 32/100\n",
      "38/38 [==============================] - 2s 60ms/step - loss: 0.0031\n",
      "Epoch 33/100\n",
      "38/38 [==============================] - 2s 60ms/step - loss: 0.0029\n",
      "Epoch 34/100\n",
      "38/38 [==============================] - 2s 59ms/step - loss: 0.0029\n",
      "Epoch 35/100\n",
      "38/38 [==============================] - 2s 58ms/step - loss: 0.0030\n",
      "Epoch 36/100\n",
      "38/38 [==============================] - 2s 57ms/step - loss: 0.0029\n",
      "Epoch 37/100\n",
      "38/38 [==============================] - 2s 59ms/step - loss: 0.0025\n",
      "Epoch 38/100\n",
      "38/38 [==============================] - 2s 60ms/step - loss: 0.0027\n",
      "Epoch 39/100\n",
      "38/38 [==============================] - 2s 58ms/step - loss: 0.0026\n",
      "Epoch 40/100\n",
      "38/38 [==============================] - 2s 61ms/step - loss: 0.0025\n",
      "Epoch 41/100\n",
      "38/38 [==============================] - 2s 56ms/step - loss: 0.0028\n",
      "Epoch 42/100\n",
      "38/38 [==============================] - 2s 55ms/step - loss: 0.0028\n",
      "Epoch 43/100\n",
      "38/38 [==============================] - 2s 54ms/step - loss: 0.0029\n",
      "Epoch 44/100\n",
      "38/38 [==============================] - 2s 61ms/step - loss: 0.0025\n",
      "Epoch 45/100\n",
      "38/38 [==============================] - 2s 62ms/step - loss: 0.0028\n",
      "Epoch 46/100\n",
      "38/38 [==============================] - 2s 57ms/step - loss: 0.0024\n",
      "Epoch 47/100\n",
      "38/38 [==============================] - 2s 57ms/step - loss: 0.0028\n",
      "Epoch 48/100\n",
      "38/38 [==============================] - 2s 63ms/step - loss: 0.0023\n",
      "Epoch 49/100\n",
      "38/38 [==============================] - 2s 55ms/step - loss: 0.0024\n",
      "Epoch 50/100\n",
      "38/38 [==============================] - 2s 62ms/step - loss: 0.0022\n",
      "Epoch 51/100\n",
      "38/38 [==============================] - 2s 62ms/step - loss: 0.0023\n",
      "Epoch 52/100\n",
      "38/38 [==============================] - 2s 63ms/step - loss: 0.0025\n",
      "Epoch 53/100\n",
      "38/38 [==============================] - 2s 57ms/step - loss: 0.0022\n",
      "Epoch 54/100\n",
      "38/38 [==============================] - 2s 59ms/step - loss: 0.0021\n",
      "Epoch 55/100\n",
      "38/38 [==============================] - 2s 63ms/step - loss: 0.0023\n",
      "Epoch 56/100\n",
      "38/38 [==============================] - 2s 62ms/step - loss: 0.0020\n",
      "Epoch 57/100\n",
      "38/38 [==============================] - 2s 62ms/step - loss: 0.0021\n",
      "Epoch 58/100\n",
      "38/38 [==============================] - 2s 63ms/step - loss: 0.0023\n",
      "Epoch 59/100\n",
      "38/38 [==============================] - 2s 57ms/step - loss: 0.0021\n",
      "Epoch 60/100\n",
      "38/38 [==============================] - 2s 57ms/step - loss: 0.0020\n",
      "Epoch 61/100\n",
      "38/38 [==============================] - 2s 61ms/step - loss: 0.0019\n",
      "Epoch 62/100\n",
      "38/38 [==============================] - 2s 59ms/step - loss: 0.0019\n",
      "Epoch 63/100\n",
      "38/38 [==============================] - 2s 54ms/step - loss: 0.0019\n",
      "Epoch 64/100\n",
      "38/38 [==============================] - 2s 57ms/step - loss: 0.0019\n",
      "Epoch 65/100\n",
      "38/38 [==============================] - 2s 52ms/step - loss: 0.0019\n",
      "Epoch 66/100\n",
      "38/38 [==============================] - 2s 58ms/step - loss: 0.0019\n",
      "Epoch 67/100\n",
      "38/38 [==============================] - 2s 59ms/step - loss: 0.0020\n",
      "Epoch 68/100\n",
      "38/38 [==============================] - 2s 64ms/step - loss: 0.0019\n",
      "Epoch 69/100\n",
      "38/38 [==============================] - 2s 60ms/step - loss: 0.0019\n",
      "Epoch 70/100\n",
      "38/38 [==============================] - 2s 61ms/step - loss: 0.0020\n",
      "Epoch 71/100\n",
      "38/38 [==============================] - 2s 56ms/step - loss: 0.0017\n",
      "Epoch 72/100\n",
      "38/38 [==============================] - 2s 59ms/step - loss: 0.0017\n",
      "Epoch 73/100\n",
      "38/38 [==============================] - 2s 60ms/step - loss: 0.0018\n",
      "Epoch 74/100\n",
      "38/38 [==============================] - 2s 61ms/step - loss: 0.0018\n",
      "Epoch 75/100\n",
      "38/38 [==============================] - 2s 62ms/step - loss: 0.0019\n",
      "Epoch 76/100\n",
      "38/38 [==============================] - 2s 62ms/step - loss: 0.0017\n",
      "Epoch 77/100\n",
      "38/38 [==============================] - 3s 66ms/step - loss: 0.0016\n",
      "Epoch 78/100\n",
      "38/38 [==============================] - 2s 63ms/step - loss: 0.0017\n",
      "Epoch 79/100\n",
      "38/38 [==============================] - 2s 63ms/step - loss: 0.0016\n",
      "Epoch 80/100\n",
      "38/38 [==============================] - 2s 63ms/step - loss: 0.0017\n",
      "Epoch 81/100\n",
      "38/38 [==============================] - 2s 64ms/step - loss: 0.0019\n",
      "Epoch 82/100\n",
      "38/38 [==============================] - 2s 64ms/step - loss: 0.0016\n",
      "Epoch 83/100\n",
      "38/38 [==============================] - 2s 63ms/step - loss: 0.0018\n",
      "Epoch 84/100\n",
      "38/38 [==============================] - 2s 62ms/step - loss: 0.0017\n",
      "Epoch 85/100\n",
      "38/38 [==============================] - 2s 59ms/step - loss: 0.0015\n",
      "Epoch 86/100\n",
      "38/38 [==============================] - 2s 59ms/step - loss: 0.0016\n",
      "Epoch 87/100\n",
      "38/38 [==============================] - 2s 55ms/step - loss: 0.0016\n",
      "Epoch 88/100\n",
      "38/38 [==============================] - 2s 55ms/step - loss: 0.0015\n",
      "Epoch 89/100\n",
      "38/38 [==============================] - 2s 51ms/step - loss: 0.0015\n",
      "Epoch 90/100\n",
      "38/38 [==============================] - 2s 51ms/step - loss: 0.0014\n",
      "Epoch 91/100\n",
      "38/38 [==============================] - 2s 55ms/step - loss: 0.0015\n",
      "Epoch 92/100\n",
      "38/38 [==============================] - 2s 55ms/step - loss: 0.0015\n",
      "Epoch 93/100\n",
      "38/38 [==============================] - 2s 57ms/step - loss: 0.0013\n",
      "Epoch 94/100\n",
      "38/38 [==============================] - 2s 53ms/step - loss: 0.0015\n",
      "Epoch 95/100\n",
      "38/38 [==============================] - 2s 53ms/step - loss: 0.0015\n",
      "Epoch 96/100\n",
      "38/38 [==============================] - 2s 53ms/step - loss: 0.0014\n",
      "Epoch 97/100\n",
      "38/38 [==============================] - 2s 54ms/step - loss: 0.0015\n",
      "Epoch 98/100\n",
      "38/38 [==============================] - 2s 53ms/step - loss: 0.0013\n",
      "Epoch 99/100\n",
      "38/38 [==============================] - 2s 55ms/step - loss: 0.0014\n",
      "Epoch 100/100\n",
      "38/38 [==============================] - 2s 54ms/step - loss: 0.0016\n"
     ]
    },
    {
     "data": {
      "text/plain": [
       "<keras.src.callbacks.History at 0x2bcd9377b50>"
      ]
     },
     "execution_count": 29,
     "metadata": {},
     "output_type": "execute_result"
    }
   ],
   "source": [
    "regressor.fit(X_train, y_train, epochs = 100, batch_size = 32)"
   ]
  },
  {
   "cell_type": "code",
   "execution_count": 34,
   "metadata": {},
   "outputs": [],
   "source": [
    "# regressor.save(\"rnn_google_stock.h5\")\n",
    "regressor.save(\"rnn_google_stock.keras\")"
   ]
  },
  {
   "cell_type": "raw",
   "metadata": {},
   "source": [
    "from keras.models import load_model\n",
    "\n",
    "#load_model\n",
    "loaded_model = load_model(\"rnn_google_stock.keras\")"
   ]
  },
  {
   "cell_type": "markdown",
   "metadata": {
    "colab_type": "text",
    "id": "4hRau_lIkrE8"
   },
   "source": [
    "## Part 3 - Making the predictions and visualising the results"
   ]
  },
  {
   "cell_type": "markdown",
   "metadata": {
    "colab_type": "text",
    "id": "SgJO6qEDksxD"
   },
   "source": [
    "### Getting the real stock price of 2017"
   ]
  },
  {
   "cell_type": "code",
   "execution_count": 71,
   "metadata": {
    "colab": {},
    "colab_type": "code",
    "id": "FmBT2zqukxTz"
   },
   "outputs": [],
   "source": [
    "dataset_test = pd.read_csv('Google_Stock_Price_Test.csv')\n",
    "real_stock_price = dataset_test.iloc[:, 1:2].values"
   ]
  },
  {
   "cell_type": "code",
   "execution_count": 72,
   "metadata": {},
   "outputs": [
    {
     "data": {
      "text/html": [
       "<div>\n",
       "<style scoped>\n",
       "    .dataframe tbody tr th:only-of-type {\n",
       "        vertical-align: middle;\n",
       "    }\n",
       "\n",
       "    .dataframe tbody tr th {\n",
       "        vertical-align: top;\n",
       "    }\n",
       "\n",
       "    .dataframe thead th {\n",
       "        text-align: right;\n",
       "    }\n",
       "</style>\n",
       "<table border=\"1\" class=\"dataframe\">\n",
       "  <thead>\n",
       "    <tr style=\"text-align: right;\">\n",
       "      <th></th>\n",
       "      <th>Date</th>\n",
       "      <th>Open</th>\n",
       "      <th>High</th>\n",
       "      <th>Low</th>\n",
       "      <th>Close</th>\n",
       "      <th>Volume</th>\n",
       "    </tr>\n",
       "  </thead>\n",
       "  <tbody>\n",
       "    <tr>\n",
       "      <th>0</th>\n",
       "      <td>1/3/2017</td>\n",
       "      <td>778.81</td>\n",
       "      <td>789.63</td>\n",
       "      <td>775.80</td>\n",
       "      <td>786.14</td>\n",
       "      <td>1,657,300</td>\n",
       "    </tr>\n",
       "    <tr>\n",
       "      <th>1</th>\n",
       "      <td>1/4/2017</td>\n",
       "      <td>788.36</td>\n",
       "      <td>791.34</td>\n",
       "      <td>783.16</td>\n",
       "      <td>786.90</td>\n",
       "      <td>1,073,000</td>\n",
       "    </tr>\n",
       "    <tr>\n",
       "      <th>2</th>\n",
       "      <td>1/5/2017</td>\n",
       "      <td>786.08</td>\n",
       "      <td>794.48</td>\n",
       "      <td>785.02</td>\n",
       "      <td>794.02</td>\n",
       "      <td>1,335,200</td>\n",
       "    </tr>\n",
       "    <tr>\n",
       "      <th>3</th>\n",
       "      <td>1/6/2017</td>\n",
       "      <td>795.26</td>\n",
       "      <td>807.90</td>\n",
       "      <td>792.20</td>\n",
       "      <td>806.15</td>\n",
       "      <td>1,640,200</td>\n",
       "    </tr>\n",
       "    <tr>\n",
       "      <th>4</th>\n",
       "      <td>1/9/2017</td>\n",
       "      <td>806.40</td>\n",
       "      <td>809.97</td>\n",
       "      <td>802.83</td>\n",
       "      <td>806.65</td>\n",
       "      <td>1,272,400</td>\n",
       "    </tr>\n",
       "    <tr>\n",
       "      <th>5</th>\n",
       "      <td>1/10/2017</td>\n",
       "      <td>807.86</td>\n",
       "      <td>809.13</td>\n",
       "      <td>803.51</td>\n",
       "      <td>804.79</td>\n",
       "      <td>1,176,800</td>\n",
       "    </tr>\n",
       "    <tr>\n",
       "      <th>6</th>\n",
       "      <td>1/11/2017</td>\n",
       "      <td>805.00</td>\n",
       "      <td>808.15</td>\n",
       "      <td>801.37</td>\n",
       "      <td>807.91</td>\n",
       "      <td>1,065,900</td>\n",
       "    </tr>\n",
       "    <tr>\n",
       "      <th>7</th>\n",
       "      <td>1/12/2017</td>\n",
       "      <td>807.14</td>\n",
       "      <td>807.39</td>\n",
       "      <td>799.17</td>\n",
       "      <td>806.36</td>\n",
       "      <td>1,353,100</td>\n",
       "    </tr>\n",
       "    <tr>\n",
       "      <th>8</th>\n",
       "      <td>1/13/2017</td>\n",
       "      <td>807.48</td>\n",
       "      <td>811.22</td>\n",
       "      <td>806.69</td>\n",
       "      <td>807.88</td>\n",
       "      <td>1,099,200</td>\n",
       "    </tr>\n",
       "    <tr>\n",
       "      <th>9</th>\n",
       "      <td>1/17/2017</td>\n",
       "      <td>807.08</td>\n",
       "      <td>807.14</td>\n",
       "      <td>800.37</td>\n",
       "      <td>804.61</td>\n",
       "      <td>1,362,100</td>\n",
       "    </tr>\n",
       "    <tr>\n",
       "      <th>10</th>\n",
       "      <td>1/18/2017</td>\n",
       "      <td>805.81</td>\n",
       "      <td>806.21</td>\n",
       "      <td>800.99</td>\n",
       "      <td>806.07</td>\n",
       "      <td>1,294,400</td>\n",
       "    </tr>\n",
       "    <tr>\n",
       "      <th>11</th>\n",
       "      <td>1/19/2017</td>\n",
       "      <td>805.12</td>\n",
       "      <td>809.48</td>\n",
       "      <td>801.80</td>\n",
       "      <td>802.17</td>\n",
       "      <td>919,300</td>\n",
       "    </tr>\n",
       "    <tr>\n",
       "      <th>12</th>\n",
       "      <td>1/20/2017</td>\n",
       "      <td>806.91</td>\n",
       "      <td>806.91</td>\n",
       "      <td>801.69</td>\n",
       "      <td>805.02</td>\n",
       "      <td>1,670,000</td>\n",
       "    </tr>\n",
       "    <tr>\n",
       "      <th>13</th>\n",
       "      <td>1/23/2017</td>\n",
       "      <td>807.25</td>\n",
       "      <td>820.87</td>\n",
       "      <td>803.74</td>\n",
       "      <td>819.31</td>\n",
       "      <td>1,963,600</td>\n",
       "    </tr>\n",
       "    <tr>\n",
       "      <th>14</th>\n",
       "      <td>1/24/2017</td>\n",
       "      <td>822.30</td>\n",
       "      <td>825.90</td>\n",
       "      <td>817.82</td>\n",
       "      <td>823.87</td>\n",
       "      <td>1,474,000</td>\n",
       "    </tr>\n",
       "    <tr>\n",
       "      <th>15</th>\n",
       "      <td>1/25/2017</td>\n",
       "      <td>829.62</td>\n",
       "      <td>835.77</td>\n",
       "      <td>825.06</td>\n",
       "      <td>835.67</td>\n",
       "      <td>1,494,500</td>\n",
       "    </tr>\n",
       "    <tr>\n",
       "      <th>16</th>\n",
       "      <td>1/26/2017</td>\n",
       "      <td>837.81</td>\n",
       "      <td>838.00</td>\n",
       "      <td>827.01</td>\n",
       "      <td>832.15</td>\n",
       "      <td>2,973,900</td>\n",
       "    </tr>\n",
       "    <tr>\n",
       "      <th>17</th>\n",
       "      <td>1/27/2017</td>\n",
       "      <td>834.71</td>\n",
       "      <td>841.95</td>\n",
       "      <td>820.44</td>\n",
       "      <td>823.31</td>\n",
       "      <td>2,965,800</td>\n",
       "    </tr>\n",
       "    <tr>\n",
       "      <th>18</th>\n",
       "      <td>1/30/2017</td>\n",
       "      <td>814.66</td>\n",
       "      <td>815.84</td>\n",
       "      <td>799.80</td>\n",
       "      <td>802.32</td>\n",
       "      <td>3,246,600</td>\n",
       "    </tr>\n",
       "    <tr>\n",
       "      <th>19</th>\n",
       "      <td>1/31/2017</td>\n",
       "      <td>796.86</td>\n",
       "      <td>801.25</td>\n",
       "      <td>790.52</td>\n",
       "      <td>796.79</td>\n",
       "      <td>2,160,600</td>\n",
       "    </tr>\n",
       "  </tbody>\n",
       "</table>\n",
       "</div>"
      ],
      "text/plain": [
       "         Date    Open    High     Low   Close     Volume\n",
       "0    1/3/2017  778.81  789.63  775.80  786.14  1,657,300\n",
       "1    1/4/2017  788.36  791.34  783.16  786.90  1,073,000\n",
       "2    1/5/2017  786.08  794.48  785.02  794.02  1,335,200\n",
       "3    1/6/2017  795.26  807.90  792.20  806.15  1,640,200\n",
       "4    1/9/2017  806.40  809.97  802.83  806.65  1,272,400\n",
       "5   1/10/2017  807.86  809.13  803.51  804.79  1,176,800\n",
       "6   1/11/2017  805.00  808.15  801.37  807.91  1,065,900\n",
       "7   1/12/2017  807.14  807.39  799.17  806.36  1,353,100\n",
       "8   1/13/2017  807.48  811.22  806.69  807.88  1,099,200\n",
       "9   1/17/2017  807.08  807.14  800.37  804.61  1,362,100\n",
       "10  1/18/2017  805.81  806.21  800.99  806.07  1,294,400\n",
       "11  1/19/2017  805.12  809.48  801.80  802.17    919,300\n",
       "12  1/20/2017  806.91  806.91  801.69  805.02  1,670,000\n",
       "13  1/23/2017  807.25  820.87  803.74  819.31  1,963,600\n",
       "14  1/24/2017  822.30  825.90  817.82  823.87  1,474,000\n",
       "15  1/25/2017  829.62  835.77  825.06  835.67  1,494,500\n",
       "16  1/26/2017  837.81  838.00  827.01  832.15  2,973,900\n",
       "17  1/27/2017  834.71  841.95  820.44  823.31  2,965,800\n",
       "18  1/30/2017  814.66  815.84  799.80  802.32  3,246,600\n",
       "19  1/31/2017  796.86  801.25  790.52  796.79  2,160,600"
      ]
     },
     "execution_count": 72,
     "metadata": {},
     "output_type": "execute_result"
    }
   ],
   "source": [
    "dataset_test # 2017"
   ]
  },
  {
   "cell_type": "code",
   "execution_count": 73,
   "metadata": {},
   "outputs": [
    {
     "data": {
      "text/plain": [
       "array([[778.81],\n",
       "       [788.36],\n",
       "       [786.08],\n",
       "       [795.26],\n",
       "       [806.4 ],\n",
       "       [807.86],\n",
       "       [805.  ],\n",
       "       [807.14],\n",
       "       [807.48],\n",
       "       [807.08],\n",
       "       [805.81],\n",
       "       [805.12],\n",
       "       [806.91],\n",
       "       [807.25],\n",
       "       [822.3 ],\n",
       "       [829.62],\n",
       "       [837.81],\n",
       "       [834.71],\n",
       "       [814.66],\n",
       "       [796.86]])"
      ]
     },
     "execution_count": 73,
     "metadata": {},
     "output_type": "execute_result"
    }
   ],
   "source": [
    "real_stock_price"
   ]
  },
  {
   "cell_type": "markdown",
   "metadata": {
    "colab_type": "text",
    "id": "GrvrLblxkz42"
   },
   "source": [
    "### Getting the predicted stock price of 2017"
   ]
  },
  {
   "cell_type": "code",
   "execution_count": 74,
   "metadata": {},
   "outputs": [
    {
     "data": {
      "text/plain": [
       "0     325.25\n",
       "1     331.27\n",
       "2     329.83\n",
       "3     328.34\n",
       "4     322.04\n",
       "       ...  \n",
       "15    829.62\n",
       "16    837.81\n",
       "17    834.71\n",
       "18    814.66\n",
       "19    796.86\n",
       "Name: Open, Length: 1278, dtype: float64"
      ]
     },
     "execution_count": 74,
     "metadata": {},
     "output_type": "execute_result"
    }
   ],
   "source": [
    "dataset_total = pd.concat((dataset_train['Open'], dataset_test['Open']), axis = 0)\n",
    "dataset_total # len is 1278 "
   ]
  },
  {
   "cell_type": "code",
   "execution_count": 75,
   "metadata": {},
   "outputs": [
    {
     "data": {
      "text/plain": [
       "array([779.  , 779.66, 777.71, 786.66, 783.76, 781.22, 781.65, 779.8 ,\n",
       "       787.85, 798.24, 803.3 , 795.  , 804.9 , 816.68, 806.34, 801.  ,\n",
       "       808.35, 795.47, 782.89, 778.2 , 767.25, 750.66, 774.5 , 783.4 ,\n",
       "       779.94, 791.17, 756.54, 755.6 , 746.97, 755.2 , 766.92, 771.37,\n",
       "       762.61, 772.63, 767.73, 764.26, 760.  , 771.53, 770.07, 757.44,\n",
       "       744.59, 757.71, 764.73, 761.  , 772.48, 780.  , 785.04, 793.9 ,\n",
       "       797.4 , 797.34, 800.4 , 790.22, 796.76, 795.84, 792.36, 790.9 ,\n",
       "       790.68, 793.7 , 783.33, 782.75, 778.81, 788.36, 786.08, 795.26,\n",
       "       806.4 , 807.86, 805.  , 807.14, 807.48, 807.08, 805.81, 805.12,\n",
       "       806.91, 807.25, 822.3 , 829.62, 837.81, 834.71, 814.66, 796.86])"
      ]
     },
     "execution_count": 75,
     "metadata": {},
     "output_type": "execute_result"
    }
   ],
   "source": [
    "## to scale the prediction to normalizatied like SE \n",
    "inputs = dataset_total[len(dataset_total) - len(dataset_test) - 60:].values  # get the last 80 days(3 months)\n",
    "# 1278 - 20 - 60 =1198 -> 1198:1278\n",
    "inputs"
   ]
  },
  {
   "cell_type": "code",
   "execution_count": 76,
   "metadata": {},
   "outputs": [
    {
     "data": {
      "text/plain": [
       "array([[779.  ],\n",
       "       [779.66],\n",
       "       [777.71],\n",
       "       [786.66],\n",
       "       [783.76],\n",
       "       [781.22],\n",
       "       [781.65],\n",
       "       [779.8 ],\n",
       "       [787.85],\n",
       "       [798.24],\n",
       "       [803.3 ],\n",
       "       [795.  ],\n",
       "       [804.9 ],\n",
       "       [816.68],\n",
       "       [806.34],\n",
       "       [801.  ],\n",
       "       [808.35],\n",
       "       [795.47],\n",
       "       [782.89],\n",
       "       [778.2 ],\n",
       "       [767.25],\n",
       "       [750.66],\n",
       "       [774.5 ],\n",
       "       [783.4 ],\n",
       "       [779.94],\n",
       "       [791.17],\n",
       "       [756.54],\n",
       "       [755.6 ],\n",
       "       [746.97],\n",
       "       [755.2 ],\n",
       "       [766.92],\n",
       "       [771.37],\n",
       "       [762.61],\n",
       "       [772.63],\n",
       "       [767.73],\n",
       "       [764.26],\n",
       "       [760.  ],\n",
       "       [771.53],\n",
       "       [770.07],\n",
       "       [757.44],\n",
       "       [744.59],\n",
       "       [757.71],\n",
       "       [764.73],\n",
       "       [761.  ],\n",
       "       [772.48],\n",
       "       [780.  ],\n",
       "       [785.04],\n",
       "       [793.9 ],\n",
       "       [797.4 ],\n",
       "       [797.34],\n",
       "       [800.4 ],\n",
       "       [790.22],\n",
       "       [796.76],\n",
       "       [795.84],\n",
       "       [792.36],\n",
       "       [790.9 ],\n",
       "       [790.68],\n",
       "       [793.7 ],\n",
       "       [783.33],\n",
       "       [782.75],\n",
       "       [778.81],\n",
       "       [788.36],\n",
       "       [786.08],\n",
       "       [795.26],\n",
       "       [806.4 ],\n",
       "       [807.86],\n",
       "       [805.  ],\n",
       "       [807.14],\n",
       "       [807.48],\n",
       "       [807.08],\n",
       "       [805.81],\n",
       "       [805.12],\n",
       "       [806.91],\n",
       "       [807.25],\n",
       "       [822.3 ],\n",
       "       [829.62],\n",
       "       [837.81],\n",
       "       [834.71],\n",
       "       [814.66],\n",
       "       [796.86]])"
      ]
     },
     "execution_count": 76,
     "metadata": {},
     "output_type": "execute_result"
    }
   ],
   "source": [
    "inputs = inputs.reshape(-1,1)\n",
    "inputs"
   ]
  },
  {
   "cell_type": "code",
   "execution_count": 77,
   "metadata": {},
   "outputs": [
    {
     "data": {
      "text/plain": [
       "array([[0.9299055 ],\n",
       "       [0.93113327],\n",
       "       [0.92750577],\n",
       "       [0.94415507],\n",
       "       [0.93876032],\n",
       "       [0.93403527],\n",
       "       [0.93483518],\n",
       "       [0.9313937 ],\n",
       "       [0.94636878],\n",
       "       [0.96569685],\n",
       "       [0.97510976],\n",
       "       [0.95966962],\n",
       "       [0.97808617],\n",
       "       [1.        ],\n",
       "       [0.98076494],\n",
       "       [0.97083116],\n",
       "       [0.98450406],\n",
       "       [0.96054394],\n",
       "       [0.9371419 ],\n",
       "       [0.92841729],\n",
       "       [0.90804747],\n",
       "       [0.8771858 ],\n",
       "       [0.92153434],\n",
       "       [0.93809063],\n",
       "       [0.93165414],\n",
       "       [0.95254483],\n",
       "       [0.88812412],\n",
       "       [0.88637547],\n",
       "       [0.87032145],\n",
       "       [0.88563137],\n",
       "       [0.90743359],\n",
       "       [0.91571173],\n",
       "       [0.89941588],\n",
       "       [0.91805566],\n",
       "       [0.9089404 ],\n",
       "       [0.9024853 ],\n",
       "       [0.89456061],\n",
       "       [0.91600938],\n",
       "       [0.9132934 ],\n",
       "       [0.88979835],\n",
       "       [0.86589404],\n",
       "       [0.89030062],\n",
       "       [0.90335962],\n",
       "       [0.89642086],\n",
       "       [0.91777662],\n",
       "       [0.93176576],\n",
       "       [0.94114145],\n",
       "       [0.95762334],\n",
       "       [0.96413424],\n",
       "       [0.96402262],\n",
       "       [0.96971501],\n",
       "       [0.95077759],\n",
       "       [0.96294367],\n",
       "       [0.96123223],\n",
       "       [0.95475854],\n",
       "       [0.95204256],\n",
       "       [0.95163331],\n",
       "       [0.95725128],\n",
       "       [0.93796041],\n",
       "       [0.93688146],\n",
       "       [0.92955205],\n",
       "       [0.94731751],\n",
       "       [0.94307612],\n",
       "       [0.96015329],\n",
       "       [0.98087655],\n",
       "       [0.98359253],\n",
       "       [0.97827219],\n",
       "       [0.98225314],\n",
       "       [0.98288563],\n",
       "       [0.98214153],\n",
       "       [0.979779  ],\n",
       "       [0.97849542],\n",
       "       [0.98182528],\n",
       "       [0.98245777],\n",
       "       [1.01045465],\n",
       "       [1.02407173],\n",
       "       [1.03930724],\n",
       "       [1.03354044],\n",
       "       [0.99624228],\n",
       "       [0.9631297 ]])"
      ]
     },
     "execution_count": 77,
     "metadata": {},
     "output_type": "execute_result"
    }
   ],
   "source": [
    "# StandardScaler\n",
    "inputs = sc.transform(inputs)\n",
    "inputs "
   ]
  },
  {
   "cell_type": "code",
   "execution_count": 78,
   "metadata": {
    "colab": {},
    "colab_type": "code",
    "id": "emikTvUpk3Ck"
   },
   "outputs": [
    {
     "name": "stdout",
     "output_type": "stream",
     "text": [
      "20\n",
      "[array([0.9299055 , 0.93113327, 0.92750577, 0.94415507, 0.93876032,\n",
      "       0.93403527, 0.93483518, 0.9313937 , 0.94636878, 0.96569685,\n",
      "       0.97510976, 0.95966962, 0.97808617, 1.        , 0.98076494,\n",
      "       0.97083116, 0.98450406, 0.96054394, 0.9371419 , 0.92841729,\n",
      "       0.90804747, 0.8771858 , 0.92153434, 0.93809063, 0.93165414,\n",
      "       0.95254483, 0.88812412, 0.88637547, 0.87032145, 0.88563137,\n",
      "       0.90743359, 0.91571173, 0.89941588, 0.91805566, 0.9089404 ,\n",
      "       0.9024853 , 0.89456061, 0.91600938, 0.9132934 , 0.88979835,\n",
      "       0.86589404, 0.89030062, 0.90335962, 0.89642086, 0.91777662,\n",
      "       0.93176576, 0.94114145, 0.95762334, 0.96413424, 0.96402262,\n",
      "       0.96971501, 0.95077759, 0.96294367, 0.96123223, 0.95475854,\n",
      "       0.95204256, 0.95163331, 0.95725128, 0.93796041, 0.93688146]), array([0.93113327, 0.92750577, 0.94415507, 0.93876032, 0.93403527,\n",
      "       0.93483518, 0.9313937 , 0.94636878, 0.96569685, 0.97510976,\n",
      "       0.95966962, 0.97808617, 1.        , 0.98076494, 0.97083116,\n",
      "       0.98450406, 0.96054394, 0.9371419 , 0.92841729, 0.90804747,\n",
      "       0.8771858 , 0.92153434, 0.93809063, 0.93165414, 0.95254483,\n",
      "       0.88812412, 0.88637547, 0.87032145, 0.88563137, 0.90743359,\n",
      "       0.91571173, 0.89941588, 0.91805566, 0.9089404 , 0.9024853 ,\n",
      "       0.89456061, 0.91600938, 0.9132934 , 0.88979835, 0.86589404,\n",
      "       0.89030062, 0.90335962, 0.89642086, 0.91777662, 0.93176576,\n",
      "       0.94114145, 0.95762334, 0.96413424, 0.96402262, 0.96971501,\n",
      "       0.95077759, 0.96294367, 0.96123223, 0.95475854, 0.95204256,\n",
      "       0.95163331, 0.95725128, 0.93796041, 0.93688146, 0.92955205]), array([0.92750577, 0.94415507, 0.93876032, 0.93403527, 0.93483518,\n",
      "       0.9313937 , 0.94636878, 0.96569685, 0.97510976, 0.95966962,\n",
      "       0.97808617, 1.        , 0.98076494, 0.97083116, 0.98450406,\n",
      "       0.96054394, 0.9371419 , 0.92841729, 0.90804747, 0.8771858 ,\n",
      "       0.92153434, 0.93809063, 0.93165414, 0.95254483, 0.88812412,\n",
      "       0.88637547, 0.87032145, 0.88563137, 0.90743359, 0.91571173,\n",
      "       0.89941588, 0.91805566, 0.9089404 , 0.9024853 , 0.89456061,\n",
      "       0.91600938, 0.9132934 , 0.88979835, 0.86589404, 0.89030062,\n",
      "       0.90335962, 0.89642086, 0.91777662, 0.93176576, 0.94114145,\n",
      "       0.95762334, 0.96413424, 0.96402262, 0.96971501, 0.95077759,\n",
      "       0.96294367, 0.96123223, 0.95475854, 0.95204256, 0.95163331,\n",
      "       0.95725128, 0.93796041, 0.93688146, 0.92955205, 0.94731751]), array([0.94415507, 0.93876032, 0.93403527, 0.93483518, 0.9313937 ,\n",
      "       0.94636878, 0.96569685, 0.97510976, 0.95966962, 0.97808617,\n",
      "       1.        , 0.98076494, 0.97083116, 0.98450406, 0.96054394,\n",
      "       0.9371419 , 0.92841729, 0.90804747, 0.8771858 , 0.92153434,\n",
      "       0.93809063, 0.93165414, 0.95254483, 0.88812412, 0.88637547,\n",
      "       0.87032145, 0.88563137, 0.90743359, 0.91571173, 0.89941588,\n",
      "       0.91805566, 0.9089404 , 0.9024853 , 0.89456061, 0.91600938,\n",
      "       0.9132934 , 0.88979835, 0.86589404, 0.89030062, 0.90335962,\n",
      "       0.89642086, 0.91777662, 0.93176576, 0.94114145, 0.95762334,\n",
      "       0.96413424, 0.96402262, 0.96971501, 0.95077759, 0.96294367,\n",
      "       0.96123223, 0.95475854, 0.95204256, 0.95163331, 0.95725128,\n",
      "       0.93796041, 0.93688146, 0.92955205, 0.94731751, 0.94307612]), array([0.93876032, 0.93403527, 0.93483518, 0.9313937 , 0.94636878,\n",
      "       0.96569685, 0.97510976, 0.95966962, 0.97808617, 1.        ,\n",
      "       0.98076494, 0.97083116, 0.98450406, 0.96054394, 0.9371419 ,\n",
      "       0.92841729, 0.90804747, 0.8771858 , 0.92153434, 0.93809063,\n",
      "       0.93165414, 0.95254483, 0.88812412, 0.88637547, 0.87032145,\n",
      "       0.88563137, 0.90743359, 0.91571173, 0.89941588, 0.91805566,\n",
      "       0.9089404 , 0.9024853 , 0.89456061, 0.91600938, 0.9132934 ,\n",
      "       0.88979835, 0.86589404, 0.89030062, 0.90335962, 0.89642086,\n",
      "       0.91777662, 0.93176576, 0.94114145, 0.95762334, 0.96413424,\n",
      "       0.96402262, 0.96971501, 0.95077759, 0.96294367, 0.96123223,\n",
      "       0.95475854, 0.95204256, 0.95163331, 0.95725128, 0.93796041,\n",
      "       0.93688146, 0.92955205, 0.94731751, 0.94307612, 0.96015329]), array([0.93403527, 0.93483518, 0.9313937 , 0.94636878, 0.96569685,\n",
      "       0.97510976, 0.95966962, 0.97808617, 1.        , 0.98076494,\n",
      "       0.97083116, 0.98450406, 0.96054394, 0.9371419 , 0.92841729,\n",
      "       0.90804747, 0.8771858 , 0.92153434, 0.93809063, 0.93165414,\n",
      "       0.95254483, 0.88812412, 0.88637547, 0.87032145, 0.88563137,\n",
      "       0.90743359, 0.91571173, 0.89941588, 0.91805566, 0.9089404 ,\n",
      "       0.9024853 , 0.89456061, 0.91600938, 0.9132934 , 0.88979835,\n",
      "       0.86589404, 0.89030062, 0.90335962, 0.89642086, 0.91777662,\n",
      "       0.93176576, 0.94114145, 0.95762334, 0.96413424, 0.96402262,\n",
      "       0.96971501, 0.95077759, 0.96294367, 0.96123223, 0.95475854,\n",
      "       0.95204256, 0.95163331, 0.95725128, 0.93796041, 0.93688146,\n",
      "       0.92955205, 0.94731751, 0.94307612, 0.96015329, 0.98087655]), array([0.93483518, 0.9313937 , 0.94636878, 0.96569685, 0.97510976,\n",
      "       0.95966962, 0.97808617, 1.        , 0.98076494, 0.97083116,\n",
      "       0.98450406, 0.96054394, 0.9371419 , 0.92841729, 0.90804747,\n",
      "       0.8771858 , 0.92153434, 0.93809063, 0.93165414, 0.95254483,\n",
      "       0.88812412, 0.88637547, 0.87032145, 0.88563137, 0.90743359,\n",
      "       0.91571173, 0.89941588, 0.91805566, 0.9089404 , 0.9024853 ,\n",
      "       0.89456061, 0.91600938, 0.9132934 , 0.88979835, 0.86589404,\n",
      "       0.89030062, 0.90335962, 0.89642086, 0.91777662, 0.93176576,\n",
      "       0.94114145, 0.95762334, 0.96413424, 0.96402262, 0.96971501,\n",
      "       0.95077759, 0.96294367, 0.96123223, 0.95475854, 0.95204256,\n",
      "       0.95163331, 0.95725128, 0.93796041, 0.93688146, 0.92955205,\n",
      "       0.94731751, 0.94307612, 0.96015329, 0.98087655, 0.98359253]), array([0.9313937 , 0.94636878, 0.96569685, 0.97510976, 0.95966962,\n",
      "       0.97808617, 1.        , 0.98076494, 0.97083116, 0.98450406,\n",
      "       0.96054394, 0.9371419 , 0.92841729, 0.90804747, 0.8771858 ,\n",
      "       0.92153434, 0.93809063, 0.93165414, 0.95254483, 0.88812412,\n",
      "       0.88637547, 0.87032145, 0.88563137, 0.90743359, 0.91571173,\n",
      "       0.89941588, 0.91805566, 0.9089404 , 0.9024853 , 0.89456061,\n",
      "       0.91600938, 0.9132934 , 0.88979835, 0.86589404, 0.89030062,\n",
      "       0.90335962, 0.89642086, 0.91777662, 0.93176576, 0.94114145,\n",
      "       0.95762334, 0.96413424, 0.96402262, 0.96971501, 0.95077759,\n",
      "       0.96294367, 0.96123223, 0.95475854, 0.95204256, 0.95163331,\n",
      "       0.95725128, 0.93796041, 0.93688146, 0.92955205, 0.94731751,\n",
      "       0.94307612, 0.96015329, 0.98087655, 0.98359253, 0.97827219]), array([0.94636878, 0.96569685, 0.97510976, 0.95966962, 0.97808617,\n",
      "       1.        , 0.98076494, 0.97083116, 0.98450406, 0.96054394,\n",
      "       0.9371419 , 0.92841729, 0.90804747, 0.8771858 , 0.92153434,\n",
      "       0.93809063, 0.93165414, 0.95254483, 0.88812412, 0.88637547,\n",
      "       0.87032145, 0.88563137, 0.90743359, 0.91571173, 0.89941588,\n",
      "       0.91805566, 0.9089404 , 0.9024853 , 0.89456061, 0.91600938,\n",
      "       0.9132934 , 0.88979835, 0.86589404, 0.89030062, 0.90335962,\n",
      "       0.89642086, 0.91777662, 0.93176576, 0.94114145, 0.95762334,\n",
      "       0.96413424, 0.96402262, 0.96971501, 0.95077759, 0.96294367,\n",
      "       0.96123223, 0.95475854, 0.95204256, 0.95163331, 0.95725128,\n",
      "       0.93796041, 0.93688146, 0.92955205, 0.94731751, 0.94307612,\n",
      "       0.96015329, 0.98087655, 0.98359253, 0.97827219, 0.98225314]), array([0.96569685, 0.97510976, 0.95966962, 0.97808617, 1.        ,\n",
      "       0.98076494, 0.97083116, 0.98450406, 0.96054394, 0.9371419 ,\n",
      "       0.92841729, 0.90804747, 0.8771858 , 0.92153434, 0.93809063,\n",
      "       0.93165414, 0.95254483, 0.88812412, 0.88637547, 0.87032145,\n",
      "       0.88563137, 0.90743359, 0.91571173, 0.89941588, 0.91805566,\n",
      "       0.9089404 , 0.9024853 , 0.89456061, 0.91600938, 0.9132934 ,\n",
      "       0.88979835, 0.86589404, 0.89030062, 0.90335962, 0.89642086,\n",
      "       0.91777662, 0.93176576, 0.94114145, 0.95762334, 0.96413424,\n",
      "       0.96402262, 0.96971501, 0.95077759, 0.96294367, 0.96123223,\n",
      "       0.95475854, 0.95204256, 0.95163331, 0.95725128, 0.93796041,\n",
      "       0.93688146, 0.92955205, 0.94731751, 0.94307612, 0.96015329,\n",
      "       0.98087655, 0.98359253, 0.97827219, 0.98225314, 0.98288563]), array([0.97510976, 0.95966962, 0.97808617, 1.        , 0.98076494,\n",
      "       0.97083116, 0.98450406, 0.96054394, 0.9371419 , 0.92841729,\n",
      "       0.90804747, 0.8771858 , 0.92153434, 0.93809063, 0.93165414,\n",
      "       0.95254483, 0.88812412, 0.88637547, 0.87032145, 0.88563137,\n",
      "       0.90743359, 0.91571173, 0.89941588, 0.91805566, 0.9089404 ,\n",
      "       0.9024853 , 0.89456061, 0.91600938, 0.9132934 , 0.88979835,\n",
      "       0.86589404, 0.89030062, 0.90335962, 0.89642086, 0.91777662,\n",
      "       0.93176576, 0.94114145, 0.95762334, 0.96413424, 0.96402262,\n",
      "       0.96971501, 0.95077759, 0.96294367, 0.96123223, 0.95475854,\n",
      "       0.95204256, 0.95163331, 0.95725128, 0.93796041, 0.93688146,\n",
      "       0.92955205, 0.94731751, 0.94307612, 0.96015329, 0.98087655,\n",
      "       0.98359253, 0.97827219, 0.98225314, 0.98288563, 0.98214153]), array([0.95966962, 0.97808617, 1.        , 0.98076494, 0.97083116,\n",
      "       0.98450406, 0.96054394, 0.9371419 , 0.92841729, 0.90804747,\n",
      "       0.8771858 , 0.92153434, 0.93809063, 0.93165414, 0.95254483,\n",
      "       0.88812412, 0.88637547, 0.87032145, 0.88563137, 0.90743359,\n",
      "       0.91571173, 0.89941588, 0.91805566, 0.9089404 , 0.9024853 ,\n",
      "       0.89456061, 0.91600938, 0.9132934 , 0.88979835, 0.86589404,\n",
      "       0.89030062, 0.90335962, 0.89642086, 0.91777662, 0.93176576,\n",
      "       0.94114145, 0.95762334, 0.96413424, 0.96402262, 0.96971501,\n",
      "       0.95077759, 0.96294367, 0.96123223, 0.95475854, 0.95204256,\n",
      "       0.95163331, 0.95725128, 0.93796041, 0.93688146, 0.92955205,\n",
      "       0.94731751, 0.94307612, 0.96015329, 0.98087655, 0.98359253,\n",
      "       0.97827219, 0.98225314, 0.98288563, 0.98214153, 0.979779  ]), array([0.97808617, 1.        , 0.98076494, 0.97083116, 0.98450406,\n",
      "       0.96054394, 0.9371419 , 0.92841729, 0.90804747, 0.8771858 ,\n",
      "       0.92153434, 0.93809063, 0.93165414, 0.95254483, 0.88812412,\n",
      "       0.88637547, 0.87032145, 0.88563137, 0.90743359, 0.91571173,\n",
      "       0.89941588, 0.91805566, 0.9089404 , 0.9024853 , 0.89456061,\n",
      "       0.91600938, 0.9132934 , 0.88979835, 0.86589404, 0.89030062,\n",
      "       0.90335962, 0.89642086, 0.91777662, 0.93176576, 0.94114145,\n",
      "       0.95762334, 0.96413424, 0.96402262, 0.96971501, 0.95077759,\n",
      "       0.96294367, 0.96123223, 0.95475854, 0.95204256, 0.95163331,\n",
      "       0.95725128, 0.93796041, 0.93688146, 0.92955205, 0.94731751,\n",
      "       0.94307612, 0.96015329, 0.98087655, 0.98359253, 0.97827219,\n",
      "       0.98225314, 0.98288563, 0.98214153, 0.979779  , 0.97849542]), array([1.        , 0.98076494, 0.97083116, 0.98450406, 0.96054394,\n",
      "       0.9371419 , 0.92841729, 0.90804747, 0.8771858 , 0.92153434,\n",
      "       0.93809063, 0.93165414, 0.95254483, 0.88812412, 0.88637547,\n",
      "       0.87032145, 0.88563137, 0.90743359, 0.91571173, 0.89941588,\n",
      "       0.91805566, 0.9089404 , 0.9024853 , 0.89456061, 0.91600938,\n",
      "       0.9132934 , 0.88979835, 0.86589404, 0.89030062, 0.90335962,\n",
      "       0.89642086, 0.91777662, 0.93176576, 0.94114145, 0.95762334,\n",
      "       0.96413424, 0.96402262, 0.96971501, 0.95077759, 0.96294367,\n",
      "       0.96123223, 0.95475854, 0.95204256, 0.95163331, 0.95725128,\n",
      "       0.93796041, 0.93688146, 0.92955205, 0.94731751, 0.94307612,\n",
      "       0.96015329, 0.98087655, 0.98359253, 0.97827219, 0.98225314,\n",
      "       0.98288563, 0.98214153, 0.979779  , 0.97849542, 0.98182528]), array([0.98076494, 0.97083116, 0.98450406, 0.96054394, 0.9371419 ,\n",
      "       0.92841729, 0.90804747, 0.8771858 , 0.92153434, 0.93809063,\n",
      "       0.93165414, 0.95254483, 0.88812412, 0.88637547, 0.87032145,\n",
      "       0.88563137, 0.90743359, 0.91571173, 0.89941588, 0.91805566,\n",
      "       0.9089404 , 0.9024853 , 0.89456061, 0.91600938, 0.9132934 ,\n",
      "       0.88979835, 0.86589404, 0.89030062, 0.90335962, 0.89642086,\n",
      "       0.91777662, 0.93176576, 0.94114145, 0.95762334, 0.96413424,\n",
      "       0.96402262, 0.96971501, 0.95077759, 0.96294367, 0.96123223,\n",
      "       0.95475854, 0.95204256, 0.95163331, 0.95725128, 0.93796041,\n",
      "       0.93688146, 0.92955205, 0.94731751, 0.94307612, 0.96015329,\n",
      "       0.98087655, 0.98359253, 0.97827219, 0.98225314, 0.98288563,\n",
      "       0.98214153, 0.979779  , 0.97849542, 0.98182528, 0.98245777]), array([0.97083116, 0.98450406, 0.96054394, 0.9371419 , 0.92841729,\n",
      "       0.90804747, 0.8771858 , 0.92153434, 0.93809063, 0.93165414,\n",
      "       0.95254483, 0.88812412, 0.88637547, 0.87032145, 0.88563137,\n",
      "       0.90743359, 0.91571173, 0.89941588, 0.91805566, 0.9089404 ,\n",
      "       0.9024853 , 0.89456061, 0.91600938, 0.9132934 , 0.88979835,\n",
      "       0.86589404, 0.89030062, 0.90335962, 0.89642086, 0.91777662,\n",
      "       0.93176576, 0.94114145, 0.95762334, 0.96413424, 0.96402262,\n",
      "       0.96971501, 0.95077759, 0.96294367, 0.96123223, 0.95475854,\n",
      "       0.95204256, 0.95163331, 0.95725128, 0.93796041, 0.93688146,\n",
      "       0.92955205, 0.94731751, 0.94307612, 0.96015329, 0.98087655,\n",
      "       0.98359253, 0.97827219, 0.98225314, 0.98288563, 0.98214153,\n",
      "       0.979779  , 0.97849542, 0.98182528, 0.98245777, 1.01045465]), array([0.98450406, 0.96054394, 0.9371419 , 0.92841729, 0.90804747,\n",
      "       0.8771858 , 0.92153434, 0.93809063, 0.93165414, 0.95254483,\n",
      "       0.88812412, 0.88637547, 0.87032145, 0.88563137, 0.90743359,\n",
      "       0.91571173, 0.89941588, 0.91805566, 0.9089404 , 0.9024853 ,\n",
      "       0.89456061, 0.91600938, 0.9132934 , 0.88979835, 0.86589404,\n",
      "       0.89030062, 0.90335962, 0.89642086, 0.91777662, 0.93176576,\n",
      "       0.94114145, 0.95762334, 0.96413424, 0.96402262, 0.96971501,\n",
      "       0.95077759, 0.96294367, 0.96123223, 0.95475854, 0.95204256,\n",
      "       0.95163331, 0.95725128, 0.93796041, 0.93688146, 0.92955205,\n",
      "       0.94731751, 0.94307612, 0.96015329, 0.98087655, 0.98359253,\n",
      "       0.97827219, 0.98225314, 0.98288563, 0.98214153, 0.979779  ,\n",
      "       0.97849542, 0.98182528, 0.98245777, 1.01045465, 1.02407173]), array([0.96054394, 0.9371419 , 0.92841729, 0.90804747, 0.8771858 ,\n",
      "       0.92153434, 0.93809063, 0.93165414, 0.95254483, 0.88812412,\n",
      "       0.88637547, 0.87032145, 0.88563137, 0.90743359, 0.91571173,\n",
      "       0.89941588, 0.91805566, 0.9089404 , 0.9024853 , 0.89456061,\n",
      "       0.91600938, 0.9132934 , 0.88979835, 0.86589404, 0.89030062,\n",
      "       0.90335962, 0.89642086, 0.91777662, 0.93176576, 0.94114145,\n",
      "       0.95762334, 0.96413424, 0.96402262, 0.96971501, 0.95077759,\n",
      "       0.96294367, 0.96123223, 0.95475854, 0.95204256, 0.95163331,\n",
      "       0.95725128, 0.93796041, 0.93688146, 0.92955205, 0.94731751,\n",
      "       0.94307612, 0.96015329, 0.98087655, 0.98359253, 0.97827219,\n",
      "       0.98225314, 0.98288563, 0.98214153, 0.979779  , 0.97849542,\n",
      "       0.98182528, 0.98245777, 1.01045465, 1.02407173, 1.03930724]), array([0.9371419 , 0.92841729, 0.90804747, 0.8771858 , 0.92153434,\n",
      "       0.93809063, 0.93165414, 0.95254483, 0.88812412, 0.88637547,\n",
      "       0.87032145, 0.88563137, 0.90743359, 0.91571173, 0.89941588,\n",
      "       0.91805566, 0.9089404 , 0.9024853 , 0.89456061, 0.91600938,\n",
      "       0.9132934 , 0.88979835, 0.86589404, 0.89030062, 0.90335962,\n",
      "       0.89642086, 0.91777662, 0.93176576, 0.94114145, 0.95762334,\n",
      "       0.96413424, 0.96402262, 0.96971501, 0.95077759, 0.96294367,\n",
      "       0.96123223, 0.95475854, 0.95204256, 0.95163331, 0.95725128,\n",
      "       0.93796041, 0.93688146, 0.92955205, 0.94731751, 0.94307612,\n",
      "       0.96015329, 0.98087655, 0.98359253, 0.97827219, 0.98225314,\n",
      "       0.98288563, 0.98214153, 0.979779  , 0.97849542, 0.98182528,\n",
      "       0.98245777, 1.01045465, 1.02407173, 1.03930724, 1.03354044]), array([0.92841729, 0.90804747, 0.8771858 , 0.92153434, 0.93809063,\n",
      "       0.93165414, 0.95254483, 0.88812412, 0.88637547, 0.87032145,\n",
      "       0.88563137, 0.90743359, 0.91571173, 0.89941588, 0.91805566,\n",
      "       0.9089404 , 0.9024853 , 0.89456061, 0.91600938, 0.9132934 ,\n",
      "       0.88979835, 0.86589404, 0.89030062, 0.90335962, 0.89642086,\n",
      "       0.91777662, 0.93176576, 0.94114145, 0.95762334, 0.96413424,\n",
      "       0.96402262, 0.96971501, 0.95077759, 0.96294367, 0.96123223,\n",
      "       0.95475854, 0.95204256, 0.95163331, 0.95725128, 0.93796041,\n",
      "       0.93688146, 0.92955205, 0.94731751, 0.94307612, 0.96015329,\n",
      "       0.98087655, 0.98359253, 0.97827219, 0.98225314, 0.98288563,\n",
      "       0.98214153, 0.979779  , 0.97849542, 0.98182528, 0.98245777,\n",
      "       1.01045465, 1.02407173, 1.03930724, 1.03354044, 0.99624228])]\n"
     ]
    }
   ],
   "source": [
    "X_test = []\n",
    "for i in range(60, 80): # 20 Finicial date\n",
    "    X_test.append(inputs[i-60:i, 0])\n",
    "print(len(X_test))\n",
    "print(X_test)\n"
   ]
  },
  {
   "cell_type": "code",
   "execution_count": 79,
   "metadata": {},
   "outputs": [
    {
     "data": {
      "text/plain": [
       "array([[0.9299055 , 0.93113327, 0.92750577, ..., 0.95725128, 0.93796041,\n",
       "        0.93688146],\n",
       "       [0.93113327, 0.92750577, 0.94415507, ..., 0.93796041, 0.93688146,\n",
       "        0.92955205],\n",
       "       [0.92750577, 0.94415507, 0.93876032, ..., 0.93688146, 0.92955205,\n",
       "        0.94731751],\n",
       "       ...,\n",
       "       [0.96054394, 0.9371419 , 0.92841729, ..., 1.01045465, 1.02407173,\n",
       "        1.03930724],\n",
       "       [0.9371419 , 0.92841729, 0.90804747, ..., 1.02407173, 1.03930724,\n",
       "        1.03354044],\n",
       "       [0.92841729, 0.90804747, 0.8771858 , ..., 1.03930724, 1.03354044,\n",
       "        0.99624228]])"
      ]
     },
     "execution_count": 79,
     "metadata": {},
     "output_type": "execute_result"
    }
   ],
   "source": [
    "X_test = np.array(X_test)\n",
    "X_test"
   ]
  },
  {
   "cell_type": "code",
   "execution_count": 80,
   "metadata": {},
   "outputs": [
    {
     "data": {
      "text/plain": [
       "array([[[0.9299055 ],\n",
       "        [0.93113327],\n",
       "        [0.92750577],\n",
       "        ...,\n",
       "        [0.95725128],\n",
       "        [0.93796041],\n",
       "        [0.93688146]],\n",
       "\n",
       "       [[0.93113327],\n",
       "        [0.92750577],\n",
       "        [0.94415507],\n",
       "        ...,\n",
       "        [0.93796041],\n",
       "        [0.93688146],\n",
       "        [0.92955205]],\n",
       "\n",
       "       [[0.92750577],\n",
       "        [0.94415507],\n",
       "        [0.93876032],\n",
       "        ...,\n",
       "        [0.93688146],\n",
       "        [0.92955205],\n",
       "        [0.94731751]],\n",
       "\n",
       "       ...,\n",
       "\n",
       "       [[0.96054394],\n",
       "        [0.9371419 ],\n",
       "        [0.92841729],\n",
       "        ...,\n",
       "        [1.01045465],\n",
       "        [1.02407173],\n",
       "        [1.03930724]],\n",
       "\n",
       "       [[0.9371419 ],\n",
       "        [0.92841729],\n",
       "        [0.90804747],\n",
       "        ...,\n",
       "        [1.02407173],\n",
       "        [1.03930724],\n",
       "        [1.03354044]],\n",
       "\n",
       "       [[0.92841729],\n",
       "        [0.90804747],\n",
       "        [0.8771858 ],\n",
       "        ...,\n",
       "        [1.03930724],\n",
       "        [1.03354044],\n",
       "        [0.99624228]]])"
      ]
     },
     "execution_count": 80,
     "metadata": {},
     "output_type": "execute_result"
    }
   ],
   "source": [
    "X_test = np.reshape(X_test, (X_test.shape[0], X_test.shape[1], 1))\n",
    "X_test"
   ]
  },
  {
   "cell_type": "raw",
   "metadata": {},
   "source": [
    "from keras.models import load_model\n",
    "\n",
    "#load_model\n",
    "regressor = load_model(\"rnn_google_stock.keras\")"
   ]
  },
  {
   "cell_type": "code",
   "execution_count": 82,
   "metadata": {},
   "outputs": [
    {
     "name": "stdout",
     "output_type": "stream",
     "text": [
      "1/1 [==============================] - 1s 953ms/step\n"
     ]
    },
    {
     "data": {
      "text/plain": [
       "array([[0.931482  ],\n",
       "       [0.92641973],\n",
       "       [0.927091  ],\n",
       "       [0.92928714],\n",
       "       [0.9352972 ],\n",
       "       [0.946119  ],\n",
       "       [0.9556785 ],\n",
       "       [0.95942247],\n",
       "       [0.9602998 ],\n",
       "       [0.9601201 ],\n",
       "       [0.9597313 ],\n",
       "       [0.9591791 ],\n",
       "       [0.95882   ],\n",
       "       [0.9599098 ],\n",
       "       [0.9617462 ],\n",
       "       [0.9707083 ],\n",
       "       [0.98334664],\n",
       "       [0.99669415],\n",
       "       [1.0035424 ],\n",
       "       [0.99540985]], dtype=float32)"
      ]
     },
     "execution_count": 82,
     "metadata": {},
     "output_type": "execute_result"
    }
   ],
   "source": [
    "predicted_stock_price = regressor.predict(X_test)\n",
    "predicted_stock_price"
   ]
  },
  {
   "cell_type": "code",
   "execution_count": 83,
   "metadata": {},
   "outputs": [
    {
     "data": {
      "text/plain": [
       "array([[779.8475 ],\n",
       "       [777.12616],\n",
       "       [777.487  ],\n",
       "       [778.6676 ],\n",
       "       [781.8984 ],\n",
       "       [787.71576],\n",
       "       [792.85455],\n",
       "       [794.8671 ],\n",
       "       [795.33875],\n",
       "       [795.2421 ],\n",
       "       [795.03314],\n",
       "       [794.7363 ],\n",
       "       [794.5433 ],\n",
       "       [795.1291 ],\n",
       "       [796.1163 ],\n",
       "       [800.93396],\n",
       "       [807.72784],\n",
       "       [814.9029 ],\n",
       "       [818.5842 ],\n",
       "       [814.21246]], dtype=float32)"
      ]
     },
     "execution_count": 83,
     "metadata": {},
     "output_type": "execute_result"
    }
   ],
   "source": [
    "predicted_stock_price = sc.inverse_transform(predicted_stock_price)\n",
    "predicted_stock_price"
   ]
  },
  {
   "cell_type": "markdown",
   "metadata": {
    "colab_type": "text",
    "id": "iFTNs3YHk6FQ"
   },
   "source": [
    "### Visualising the results"
   ]
  },
  {
   "cell_type": "code",
   "execution_count": 84,
   "metadata": {
    "colab": {
     "base_uri": "https://localhost:8080/",
     "height": 295
    },
    "colab_type": "code",
    "id": "8OUI8U49k9tH",
    "outputId": "db0ed15e-071b-4bae-955e-0eda3df95238"
   },
   "outputs": [
    {
     "data": {
      "image/png": "[encoded data removed]",
      "text/plain": [
       "<Figure size 640x480 with 1 Axes>"
      ]
     },
     "metadata": {},
     "output_type": "display_data"
    }
   ],
   "source": [
    "plt.plot(real_stock_price, color = 'red', label = 'Real Google Stock Price')\n",
    "plt.plot(predicted_stock_price, color = 'blue', label = 'Predicted Google Stock Price')\n",
    "plt.title('Google Stock Price Prediction')\n",
    "plt.xlabel('Time')\n",
    "plt.ylabel('Google Stock Price')\n",
    "plt.legend()\n",
    "plt.show()"
   ]
  },
  {
   "cell_type": "code",
   "execution_count": 68,
   "metadata": {},
   "outputs": [
    {
     "data": {
      "text/plain": [
       "16.903074839632072"
      ]
     },
     "execution_count": 68,
     "metadata": {},
     "output_type": "execute_result"
    }
   ],
   "source": [
    "import math\n",
    "from sklearn.metrics import mean_squared_error\n",
    "rmse = math.sqrt(mean_squared_error(real_stock_price, predicted_stock_price))\n",
    "rmse \n",
    "### rmse smaller means models better. "
   ]
  },
  {
   "cell_type": "code",
   "execution_count": null,
   "metadata": {},
   "outputs": [],
   "source": []
  }
 ],
 "metadata": {
  "colab": {
   "collapsed_sections": [],
   "name": "recurrent_neural_network.ipynb",
   "provenance": []
  },
  "kernelspec": {
   "display_name": "Python 3 (ipykernel)",
   "language": "python",
   "name": "python3"
  },
  "language_info": {
   "codemirror_mode": {
    "name": "ipython",
    "version": 3
   },
   "file_extension": ".py",
   "mimetype": "text/x-python",
   "name": "python",
   "nbconvert_exporter": "python",
   "pygments_lexer": "ipython3",
   "version": "3.10.9"
  },
  "toc": {
   "base_numbering": 1,
   "nav_menu": {},
   "number_sections": true,
   "sideBar": true,
   "skip_h1_title": false,
   "title_cell": "Table of Contents",
   "title_sidebar": "Contents",
   "toc_cell": false,
   "toc_position": {},
   "toc_section_display": true,
   "toc_window_display": false
  },
  "varInspector": {
   "cols": {
    "lenName": 16,
    "lenType": 16,
    "lenVar": 40
   },
   "kernels_config": {
    "python": {
     "delete_cmd_postfix": "",
     "delete_cmd_prefix": "del ",
     "library": "var_list.py",
     "varRefreshCmd": "print(var_dic_list())"
    },
    "r": {
     "delete_cmd_postfix": ") ",
     "delete_cmd_prefix": "rm(",
     "library": "var_list.r",
     "varRefreshCmd": "cat(var_dic_list()) "
    }
   },
   "types_to_exclude": [
    "module",
    "function",
    "builtin_function_or_method",
    "instance",
    "_Feature"
   ],
   "window_display": false
  }
 },
 "nbformat": 4,
 "nbformat_minor": 1
}
