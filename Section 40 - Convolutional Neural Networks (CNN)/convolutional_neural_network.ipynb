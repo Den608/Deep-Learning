{
 "cells": [
  {
   "cell_type": "markdown",
   "metadata": {
    "colab_type": "text",
    "id": "3DR-eO17geWu"
   },
   "source": [
    "# Convolutional Neural Network"
   ]
  },
  {
   "cell_type": "markdown",
   "metadata": {
    "colab_type": "text",
    "id": "EMefrVPCg-60"
   },
   "source": [
    "### Importing the libraries"
   ]
  },
  {
   "cell_type": "code",
   "execution_count": 1,
   "metadata": {
    "colab": {},
    "colab_type": "code",
    "id": "sCV30xyVhFbE"
   },
   "outputs": [],
   "source": [
    "import tensorflow as tf\n",
    "from keras.preprocessing.image import ImageDataGenerator"
   ]
  },
  {
   "cell_type": "code",
   "execution_count": 2,
   "metadata": {
    "colab": {},
    "colab_type": "code",
    "id": "FIleuCAjoFD8"
   },
   "outputs": [
    {
     "data": {
      "text/plain": [
       "'2.13.0'"
      ]
     },
     "execution_count": 2,
     "metadata": {},
     "output_type": "execute_result"
    }
   ],
   "source": [
    "tf.__version__"
   ]
  },
  {
   "cell_type": "markdown",
   "metadata": {
    "colab_type": "text",
    "id": "oxQxCBWyoGPE"
   },
   "source": [
    "## Part 1 - Data Preprocessing"
   ]
  },
  {
   "cell_type": "markdown",
   "metadata": {
    "colab_type": "text",
    "id": "MvE-heJNo3GG"
   },
   "source": [
    "### Preprocessing the Training set"
   ]
  },
  {
   "cell_type": "code",
   "execution_count": 3,
   "metadata": {
    "colab": {},
    "colab_type": "code",
    "id": "0koUcJMJpEBD"
   },
   "outputs": [
    {
     "name": "stdout",
     "output_type": "stream",
     "text": [
      "Found 8000 images belonging to 2 classes.\n"
     ]
    }
   ],
   "source": [
    "train_datagen = ImageDataGenerator(rescale = 1./255,\n",
    "                                   shear_range = 0.2,\n",
    "                                   zoom_range = 0.2,\n",
    "                                   horizontal_flip = True)\n",
    "training_set = train_datagen.flow_from_directory('dataset/training_set',\n",
    "                                                 target_size = (64, 64),\n",
    "                                                 batch_size = 32, ## very import, every time train 32 pic, 64 128\n",
    "                                                 class_mode = 'binary')"
   ]
  },
  {
   "cell_type": "markdown",
   "metadata": {
    "colab_type": "text",
    "id": "mrCMmGw9pHys"
   },
   "source": [
    "### Preprocessing the Test set"
   ]
  },
  {
   "cell_type": "code",
   "execution_count": 4,
   "metadata": {
    "colab": {},
    "colab_type": "code",
    "id": "SH4WzfOhpKc3"
   },
   "outputs": [
    {
     "name": "stdout",
     "output_type": "stream",
     "text": [
      "Found 2000 images belonging to 2 classes.\n"
     ]
    }
   ],
   "source": [
    "test_datagen = ImageDataGenerator(rescale = 1./255)\n",
    "test_set = test_datagen.flow_from_directory('dataset/test_set',\n",
    "                                            target_size = (64, 64),\n",
    "                                            batch_size = 32,\n",
    "                                            class_mode = 'binary')"
   ]
  },
  {
   "cell_type": "markdown",
   "metadata": {
    "colab_type": "text",
    "id": "af8O4l90gk7B"
   },
   "source": [
    "## Part 2 - Building the CNN"
   ]
  },
  {
   "cell_type": "markdown",
   "metadata": {
    "colab_type": "text",
    "id": "ces1gXY2lmoX"
   },
   "source": [
    "### Initialising the CNN"
   ]
  },
  {
   "cell_type": "code",
   "execution_count": 5,
   "metadata": {
    "colab": {},
    "colab_type": "code",
    "id": "SAUt4UMPlhLS"
   },
   "outputs": [
    {
     "data": {
      "text/plain": [
       "<keras.src.engine.sequential.Sequential at 0x23cb8bef670>"
      ]
     },
     "execution_count": 5,
     "metadata": {},
     "output_type": "execute_result"
    }
   ],
   "source": [
    "cnn = tf.keras.models.Sequential()\n",
    "cnn"
   ]
  },
  {
   "cell_type": "markdown",
   "metadata": {
    "colab_type": "text",
    "id": "u5YJj_XMl5LF"
   },
   "source": [
    "### Step 1 - Convolution"
   ]
  },
  {
   "cell_type": "code",
   "execution_count": 6,
   "metadata": {
    "colab": {},
    "colab_type": "code",
    "id": "XPzPrMckl-hV"
   },
   "outputs": [],
   "source": [
    "cnn.add(tf.keras.layers.Conv2D(filters=32, kernel_size=3, activation='relu', input_shape=[64, 64, 3]))"
   ]
  },
  {
   "cell_type": "markdown",
   "metadata": {
    "colab_type": "text",
    "id": "tf87FpvxmNOJ"
   },
   "source": [
    "### Step 2 - Pooling"
   ]
  },
  {
   "cell_type": "code",
   "execution_count": 7,
   "metadata": {
    "colab": {},
    "colab_type": "code",
    "id": "ncpqPl69mOac"
   },
   "outputs": [],
   "source": [
    "cnn.add(tf.keras.layers.MaxPool2D(pool_size=2, strides=2))"
   ]
  },
  {
   "cell_type": "markdown",
   "metadata": {},
   "source": [
    "MaxPool2D 表示這是一個二維最大池化層，用於處理二維圖像數據。\n",
    "\n",
    "pool_size=2 指定了池化區域的大小，這表示在每個池化操作中，將輸入特徵圖分為2x2的區域。\n",
    "\n",
    "strides=2 指定了池化操作的步幅，這表示在每次池化操作之間，移動2個像素。步幅控制著池化窗口在輸入特徵圖上的間隔。\n",
    "\n",
    "Max Pooling 的操作是這樣的：在每個池化區域中，它選擇區域內的最大值並將其作為輸出，並且將這個最大值的位置記錄下來（這可以用於後續的反向傳播）。通過採取最大值，Max Pooling有助於保留最重要的特徵並減少過度擬合。\n",
    "\n",
    "總之，Max Pooling 在CNN中用於特徵提取和縮小輸入特徵圖的尺寸，使得模型可以更好地處理圖像數據。"
   ]
  },
  {
   "cell_type": "markdown",
   "metadata": {
    "colab_type": "text",
    "id": "xaTOgD8rm4mU"
   },
   "source": [
    "### Adding a second convolutional layer"
   ]
  },
  {
   "cell_type": "code",
   "execution_count": 8,
   "metadata": {
    "colab": {},
    "colab_type": "code",
    "id": "i_-FZjn_m8gk"
   },
   "outputs": [],
   "source": [
    "cnn.add(tf.keras.layers.Conv2D(filters=32, kernel_size=3, activation='relu'))\n",
    "cnn.add(tf.keras.layers.MaxPool2D(pool_size=2, strides=2))"
   ]
  },
  {
   "cell_type": "markdown",
   "metadata": {
    "colab_type": "text",
    "id": "tmiEuvTunKfk"
   },
   "source": [
    "### Step 3 - Flattening"
   ]
  },
  {
   "cell_type": "code",
   "execution_count": 9,
   "metadata": {
    "colab": {},
    "colab_type": "code",
    "id": "6AZeOGCvnNZn"
   },
   "outputs": [],
   "source": [
    "cnn.add(tf.keras.layers.Flatten())"
   ]
  },
  {
   "cell_type": "markdown",
   "metadata": {
    "colab_type": "text",
    "id": "dAoSECOm203v"
   },
   "source": [
    "### Step 4 - Full Connection"
   ]
  },
  {
   "cell_type": "code",
   "execution_count": 10,
   "metadata": {
    "colab": {},
    "colab_type": "code",
    "id": "8GtmUlLd26Nq"
   },
   "outputs": [],
   "source": [
    "cnn.add(tf.keras.layers.Dense(units=128, activation='relu'))"
   ]
  },
  {
   "cell_type": "markdown",
   "metadata": {
    "colab_type": "text",
    "id": "yTldFvbX28Na"
   },
   "source": [
    "### Step 5 - Output Layer"
   ]
  },
  {
   "cell_type": "code",
   "execution_count": 11,
   "metadata": {
    "colab": {},
    "colab_type": "code",
    "id": "1p_Zj1Mc3Ko_"
   },
   "outputs": [],
   "source": [
    "cnn.add(tf.keras.layers.Dense(units=1, activation='sigmoid'))"
   ]
  },
  {
   "cell_type": "markdown",
   "metadata": {
    "colab_type": "text",
    "id": "D6XkI90snSDl"
   },
   "source": [
    "## Part 3 - Training the CNN"
   ]
  },
  {
   "cell_type": "markdown",
   "metadata": {
    "colab_type": "text",
    "id": "vfrFQACEnc6i"
   },
   "source": [
    "### Compiling the CNN"
   ]
  },
  {
   "cell_type": "code",
   "execution_count": 12,
   "metadata": {
    "colab": {},
    "colab_type": "code",
    "id": "NALksrNQpUlJ"
   },
   "outputs": [],
   "source": [
    "cnn.compile(optimizer = 'adam', loss = 'binary_crossentropy', metrics = ['accuracy'])"
   ]
  },
  {
   "cell_type": "markdown",
   "metadata": {},
   "source": [
    "Adam (Adaptive Moment Estimation): Adam 優化器是一種廣泛使用的優化器，通常在深度學習中表現出色。它結合了AdaGrad和RMSprop的優點，具有自適應學習率，適用於各種問題。\n",
    "\n",
    "SGD (Stochastic Gradient Descent): 隨機梯度下降是最基本的優化器之一。它根據每個小批次的梯度來更新模型參數，可以在一些情況下實現很好的訓練效果，但可能需要調整學習率和其他超參數。\n",
    "\n",
    "RMSprop (Root Mean Square Propagation): RMSprop 是一種自適應學習率的優化器，通常用於處理非平穩目標函數的問題。它適用於許多情況，無需手動調整學習率。\n",
    "\n",
    "Adagrad (Adaptive Gradient Algorithm): Adagrad 優化器根據每個參數的過去梯度來調整學習率，適用於稀疏數據集的問題。\n",
    "\n",
    "Adadelta: Adadelta 是一種自適應學習率的優化器，類似於RMSprop，但避免了RMSprop中的學習率過度遞減的問題。\n",
    "\n",
    "Nadam (Nesterov-accelerated Adaptive Moment Estimation): Nadam 是一種結合了Nesterov加速梯度和Adam的特點的優化器，通常在許多問題上表現出色。"
   ]
  },
  {
   "cell_type": "markdown",
   "metadata": {
    "colab_type": "text",
    "id": "ehS-v3MIpX2h"
   },
   "source": [
    "### Training the CNN on the Training set and evaluating it on the Test set"
   ]
  },
  {
   "cell_type": "code",
   "execution_count": 13,
   "metadata": {
    "colab": {},
    "colab_type": "code",
    "id": "XUj1W4PJptta"
   },
   "outputs": [
    {
     "name": "stdout",
     "output_type": "stream",
     "text": [
      "Epoch 1/25\n",
      "250/250 [==============================] - 30s 116ms/step - loss: 0.6630 - accuracy: 0.5895 - val_loss: 0.6305 - val_accuracy: 0.6330\n",
      "Epoch 2/25\n",
      "250/250 [==============================] - 28s 112ms/step - loss: 0.5948 - accuracy: 0.6855 - val_loss: 0.5763 - val_accuracy: 0.7160\n",
      "Epoch 3/25\n",
      "250/250 [==============================] - 29s 115ms/step - loss: 0.5508 - accuracy: 0.7182 - val_loss: 0.5428 - val_accuracy: 0.7315\n",
      "Epoch 4/25\n",
      "250/250 [==============================] - 32s 126ms/step - loss: 0.5300 - accuracy: 0.7341 - val_loss: 0.5157 - val_accuracy: 0.7650\n",
      "Epoch 5/25\n",
      "250/250 [==============================] - 29s 116ms/step - loss: 0.5014 - accuracy: 0.7536 - val_loss: 0.5355 - val_accuracy: 0.7390\n",
      "Epoch 6/25\n",
      "250/250 [==============================] - 28s 113ms/step - loss: 0.4856 - accuracy: 0.7642 - val_loss: 0.5030 - val_accuracy: 0.7625\n",
      "Epoch 7/25\n",
      "250/250 [==============================] - 29s 114ms/step - loss: 0.4801 - accuracy: 0.7703 - val_loss: 0.5280 - val_accuracy: 0.7495\n",
      "Epoch 8/25\n",
      "250/250 [==============================] - 28s 111ms/step - loss: 0.4627 - accuracy: 0.7751 - val_loss: 0.5038 - val_accuracy: 0.7625\n",
      "Epoch 9/25\n",
      "250/250 [==============================] - 29s 114ms/step - loss: 0.4519 - accuracy: 0.7824 - val_loss: 0.4658 - val_accuracy: 0.7795\n",
      "Epoch 10/25\n",
      "250/250 [==============================] - 29s 115ms/step - loss: 0.4378 - accuracy: 0.7979 - val_loss: 0.5721 - val_accuracy: 0.7410\n",
      "Epoch 11/25\n",
      "250/250 [==============================] - 29s 116ms/step - loss: 0.4252 - accuracy: 0.8009 - val_loss: 0.5443 - val_accuracy: 0.7590\n",
      "Epoch 12/25\n",
      "250/250 [==============================] - 29s 116ms/step - loss: 0.4119 - accuracy: 0.8079 - val_loss: 0.4710 - val_accuracy: 0.7930\n",
      "Epoch 13/25\n",
      "250/250 [==============================] - 29s 115ms/step - loss: 0.4123 - accuracy: 0.8070 - val_loss: 0.4837 - val_accuracy: 0.7805\n",
      "Epoch 14/25\n",
      "250/250 [==============================] - 28s 113ms/step - loss: 0.3895 - accuracy: 0.8215 - val_loss: 0.4864 - val_accuracy: 0.7905\n",
      "Epoch 15/25\n",
      "250/250 [==============================] - 30s 119ms/step - loss: 0.3773 - accuracy: 0.8284 - val_loss: 0.5065 - val_accuracy: 0.7860\n",
      "Epoch 16/25\n",
      "250/250 [==============================] - 30s 119ms/step - loss: 0.3724 - accuracy: 0.8316 - val_loss: 0.4686 - val_accuracy: 0.7895\n",
      "Epoch 17/25\n",
      "250/250 [==============================] - 28s 113ms/step - loss: 0.3550 - accuracy: 0.8422 - val_loss: 0.5215 - val_accuracy: 0.7835\n",
      "Epoch 18/25\n",
      "250/250 [==============================] - 29s 116ms/step - loss: 0.3449 - accuracy: 0.8445 - val_loss: 0.4962 - val_accuracy: 0.7815\n",
      "Epoch 19/25\n",
      "250/250 [==============================] - 29s 118ms/step - loss: 0.3362 - accuracy: 0.8504 - val_loss: 0.4436 - val_accuracy: 0.8100\n",
      "Epoch 20/25\n",
      "250/250 [==============================] - 29s 117ms/step - loss: 0.3321 - accuracy: 0.8536 - val_loss: 0.4663 - val_accuracy: 0.7935\n",
      "Epoch 21/25\n",
      "250/250 [==============================] - 29s 116ms/step - loss: 0.3175 - accuracy: 0.8612 - val_loss: 0.4711 - val_accuracy: 0.8055\n",
      "Epoch 22/25\n",
      "250/250 [==============================] - 29s 116ms/step - loss: 0.3055 - accuracy: 0.8674 - val_loss: 0.5354 - val_accuracy: 0.7865\n",
      "Epoch 23/25\n",
      "250/250 [==============================] - 29s 114ms/step - loss: 0.3046 - accuracy: 0.8637 - val_loss: 0.4950 - val_accuracy: 0.8000\n",
      "Epoch 24/25\n",
      "250/250 [==============================] - 29s 115ms/step - loss: 0.2798 - accuracy: 0.8792 - val_loss: 0.5277 - val_accuracy: 0.7915\n",
      "Epoch 25/25\n",
      "250/250 [==============================] - 29s 117ms/step - loss: 0.2658 - accuracy: 0.8865 - val_loss: 0.4926 - val_accuracy: 0.8015\n"
     ]
    },
    {
     "data": {
      "text/plain": [
       "<keras.src.callbacks.History at 0x23cc507eda0>"
      ]
     },
     "execution_count": 13,
     "metadata": {},
     "output_type": "execute_result"
    }
   ],
   "source": [
    "cnn.fit(x = training_set, validation_data = test_set, epochs = 25)"
   ]
  },
  {
   "cell_type": "markdown",
   "metadata": {
    "colab_type": "text",
    "id": "U3PZasO0006Z"
   },
   "source": [
    "## Part 4 - Making a single prediction"
   ]
  },
  {
   "cell_type": "code",
   "execution_count": 51,
   "metadata": {},
   "outputs": [
    {
     "data": {
      "image/png": "[encoded data removed]",
      "text/plain": [
       "<PIL.Image.Image image mode=RGB size=64x64>"
      ]
     },
     "execution_count": 51,
     "metadata": {},
     "output_type": "execute_result"
    }
   ],
   "source": [
    "import numpy as np\n",
    "from keras.preprocessing import image\n",
    "test_image = image.load_img('dataset/single_prediction/cat_or_dog_1.jpg', target_size = (64, 64))\n",
    "test_image "
   ]
  },
  {
   "cell_type": "code",
   "execution_count": 56,
   "metadata": {
    "colab": {},
    "colab_type": "code",
    "id": "gsSiWEJY1BPB"
   },
   "outputs": [
    {
     "data": {
      "text/plain": [
       "array([[[ 54.,  58.,   7.],\n",
       "        [ 58.,  63.,   9.],\n",
       "        [ 64.,  67.,  10.],\n",
       "        ...,\n",
       "        [136., 144.,  71.],\n",
       "        [140., 150.,  77.],\n",
       "        [139., 149.,  78.]],\n",
       "\n",
       "       [[ 48.,  54.,   6.],\n",
       "        [ 51.,  58.,   7.],\n",
       "        [ 58.,  63.,   9.],\n",
       "        ...,\n",
       "        [129., 137.,  64.],\n",
       "        [139., 149.,  78.],\n",
       "        [141., 151.,  80.]],\n",
       "\n",
       "       [[ 48.,  56.,   7.],\n",
       "        [ 48.,  56.,   7.],\n",
       "        [ 54.,  61.,  10.],\n",
       "        ...,\n",
       "        [123., 130.,  63.],\n",
       "        [136., 145.,  80.],\n",
       "        [140., 149.,  82.]],\n",
       "\n",
       "       ...,\n",
       "\n",
       "       [[ 46.,  55.,  12.],\n",
       "        [ 42.,  50.,   9.],\n",
       "        [ 38.,  49.,   9.],\n",
       "        ...,\n",
       "        [239., 205., 170.],\n",
       "        [235., 209., 186.],\n",
       "        [229., 202., 173.]],\n",
       "\n",
       "       [[ 50.,  57.,  15.],\n",
       "        [ 42.,  50.,   9.],\n",
       "        [ 44.,  52.,  11.],\n",
       "        ...,\n",
       "        [234., 200., 162.],\n",
       "        [236., 206., 178.],\n",
       "        [234., 203., 174.]],\n",
       "\n",
       "       [[ 53.,  59.,  13.],\n",
       "        [ 43.,  51.,  10.],\n",
       "        [ 49.,  56.,  12.],\n",
       "        ...,\n",
       "        [231., 195., 159.],\n",
       "        [235., 213., 190.],\n",
       "        [233., 206., 179.]]], dtype=float32)"
      ]
     },
     "execution_count": 56,
     "metadata": {},
     "output_type": "execute_result"
    }
   ],
   "source": [
    "test_image = image.img_to_array(test_image)\n",
    "test_image"
   ]
  },
  {
   "cell_type": "code",
   "execution_count": 57,
   "metadata": {},
   "outputs": [
    {
     "data": {
      "text/plain": [
       "array([[[[ 54.,  58.,   7.],\n",
       "         [ 58.,  63.,   9.],\n",
       "         [ 64.,  67.,  10.],\n",
       "         ...,\n",
       "         [136., 144.,  71.],\n",
       "         [140., 150.,  77.],\n",
       "         [139., 149.,  78.]],\n",
       "\n",
       "        [[ 48.,  54.,   6.],\n",
       "         [ 51.,  58.,   7.],\n",
       "         [ 58.,  63.,   9.],\n",
       "         ...,\n",
       "         [129., 137.,  64.],\n",
       "         [139., 149.,  78.],\n",
       "         [141., 151.,  80.]],\n",
       "\n",
       "        [[ 48.,  56.,   7.],\n",
       "         [ 48.,  56.,   7.],\n",
       "         [ 54.,  61.,  10.],\n",
       "         ...,\n",
       "         [123., 130.,  63.],\n",
       "         [136., 145.,  80.],\n",
       "         [140., 149.,  82.]],\n",
       "\n",
       "        ...,\n",
       "\n",
       "        [[ 46.,  55.,  12.],\n",
       "         [ 42.,  50.,   9.],\n",
       "         [ 38.,  49.,   9.],\n",
       "         ...,\n",
       "         [239., 205., 170.],\n",
       "         [235., 209., 186.],\n",
       "         [229., 202., 173.]],\n",
       "\n",
       "        [[ 50.,  57.,  15.],\n",
       "         [ 42.,  50.,   9.],\n",
       "         [ 44.,  52.,  11.],\n",
       "         ...,\n",
       "         [234., 200., 162.],\n",
       "         [236., 206., 178.],\n",
       "         [234., 203., 174.]],\n",
       "\n",
       "        [[ 53.,  59.,  13.],\n",
       "         [ 43.,  51.,  10.],\n",
       "         [ 49.,  56.,  12.],\n",
       "         ...,\n",
       "         [231., 195., 159.],\n",
       "         [235., 213., 190.],\n",
       "         [233., 206., 179.]]]], dtype=float32)"
      ]
     },
     "execution_count": 57,
     "metadata": {},
     "output_type": "execute_result"
    }
   ],
   "source": [
    "test_image = np.expand_dims(test_image, axis = 0) # [64,64,3] -> [1,64,64,3]\n",
    "test_image"
   ]
  },
  {
   "cell_type": "code",
   "execution_count": null,
   "metadata": {},
   "outputs": [],
   "source": [
    "\n",
    "result = cnn.predict(test_image)\n",
    "training_set.class_indices\n",
    "if result[0][0] == 1:\n",
    "  prediction = 'dog'\n",
    "else:\n",
    "  prediction = 'cat'"
   ]
  },
  {
   "cell_type": "code",
   "execution_count": 15,
   "metadata": {
    "colab": {},
    "colab_type": "code",
    "id": "ED9KB3I54c1i"
   },
   "outputs": [
    {
     "name": "stdout",
     "output_type": "stream",
     "text": [
      "dog\n"
     ]
    }
   ],
   "source": [
    "print(prediction)"
   ]
  },
  {
   "cell_type": "code",
   "execution_count": 21,
   "metadata": {},
   "outputs": [
    {
     "name": "stderr",
     "output_type": "stream",
     "text": [
      "C:\\Users\\gostj\\anaconda3\\lib\\site-packages\\keras\\src\\engine\\training.py:3000: UserWarning: You are saving your model as an HDF5 file via `model.save()`. This file format is considered legacy. We recommend using instead the native Keras format, e.g. `model.save('my_model.keras')`.\n",
      "  saving_api.save_model(\n"
     ]
    }
   ],
   "source": [
    "cnn.save(\"cnn_dog_model.h5\")"
   ]
  },
  {
   "cell_type": "code",
   "execution_count": 23,
   "metadata": {},
   "outputs": [],
   "source": [
    "cnn = tf.keras.models.load_model(\"cnn_dog_model.h5\")"
   ]
  },
  {
   "cell_type": "code",
   "execution_count": 58,
   "metadata": {},
   "outputs": [
    {
     "data": {
      "image/png": "[encoded data removed]",
      "text/plain": [
       "<PIL.Image.Image image mode=RGB size=64x64>"
      ]
     },
     "execution_count": 58,
     "metadata": {},
     "output_type": "execute_result"
    }
   ],
   "source": [
    "test_image = image.load_img('dataset/Jack/jack.jpg', target_size = (64, 64))\n",
    "test_image"
   ]
  },
  {
   "cell_type": "code",
   "execution_count": 59,
   "metadata": {},
   "outputs": [
    {
     "name": "stdout",
     "output_type": "stream",
     "text": [
      "1/1 [==============================] - 0s 97ms/step\n",
      "dog\n"
     ]
    }
   ],
   "source": [
    "\n",
    "test_image = image.img_to_array(test_image)\n",
    "test_image = np.expand_dims(test_image, axis = 0)\n",
    "result = cnn.predict(test_image)\n",
    "training_set.class_indices\n",
    "if result[0][0] == 1:\n",
    "  prediction = 'dog'\n",
    "else:\n",
    "  prediction = 'cat'\n",
    "print(prediction)"
   ]
  },
  {
   "cell_type": "code",
   "execution_count": 40,
   "metadata": {},
   "outputs": [
    {
     "data": {
      "image/png": "[encoded data removed]",
      "text/plain": [
       "<PIL.Image.Image image mode=RGB size=64x64>"
      ]
     },
     "execution_count": 40,
     "metadata": {},
     "output_type": "execute_result"
    }
   ],
   "source": [
    "test_image = image.load_img('dataset/cat/cute.jpg', target_size = (64, 64))\n",
    "test_image"
   ]
  },
  {
   "cell_type": "code",
   "execution_count": 41,
   "metadata": {},
   "outputs": [
    {
     "name": "stdout",
     "output_type": "stream",
     "text": [
      "1/1 [==============================] - 0s 31ms/step\n",
      "dog\n"
     ]
    }
   ],
   "source": [
    "\n",
    "test_image = image.img_to_array(test_image)\n",
    "test_image = np.expand_dims(test_image, axis = 0)\n",
    "result = cnn.predict(test_image)\n",
    "training_set.class_indices\n",
    "if result[0][0] == 1:\n",
    "  prediction = 'dog'\n",
    "else:\n",
    "  prediction = 'cat'\n",
    "\n",
    "print(prediction)\n"
   ]
  },
  {
   "cell_type": "code",
   "execution_count": 60,
   "metadata": {},
   "outputs": [
    {
     "data": {
      "image/png": "[encoded data removed]",
      "text/plain": [
       "<PIL.Image.Image image mode=RGB size=64x64>"
      ]
     },
     "execution_count": 60,
     "metadata": {},
     "output_type": "execute_result"
    }
   ],
   "source": [
    "test_image = image.load_img('dataset/cat/cute2.jpg', target_size = (64, 64))\n",
    "test_image"
   ]
  },
  {
   "cell_type": "code",
   "execution_count": 30,
   "metadata": {},
   "outputs": [
    {
     "name": "stdout",
     "output_type": "stream",
     "text": [
      "1/1 [==============================] - 0s 25ms/step\n",
      "cat\n"
     ]
    }
   ],
   "source": [
    "\n",
    "test_image = image.img_to_array(test_image)\n",
    "test_image = np.expand_dims(test_image, axis = 0)\n",
    "result = cnn.predict(test_image)\n",
    "training_set.class_indices\n",
    "if result[0][0] == 1:\n",
    "  prediction = 'dog'\n",
    "else:\n",
    "  prediction = 'cat'\n",
    "print(prediction)"
   ]
  },
  {
   "cell_type": "code",
   "execution_count": null,
   "metadata": {},
   "outputs": [],
   "source": []
  }
 ],
 "metadata": {
  "colab": {
   "authorship_tag": "ABX9TyON0YxX/oky4tPbqCLnFjWD",
   "collapsed_sections": [],
   "name": "convolutional_neural_network.ipynb",
   "provenance": [],
   "toc_visible": true
  },
  "kernelspec": {
   "display_name": "Python 3 (ipykernel)",
   "language": "python",
   "name": "python3"
  },
  "language_info": {
   "codemirror_mode": {
    "name": "ipython",
    "version": 3
   },
   "file_extension": ".py",
   "mimetype": "text/x-python",
   "name": "python",
   "nbconvert_exporter": "python",
   "pygments_lexer": "ipython3",
   "version": "3.10.9"
  },
  "toc": {
   "base_numbering": 1,
   "nav_menu": {},
   "number_sections": true,
   "sideBar": true,
   "skip_h1_title": false,
   "title_cell": "Table of Contents",
   "title_sidebar": "Contents",
   "toc_cell": false,
   "toc_position": {},
   "toc_section_display": true,
   "toc_window_display": false
  },
  "varInspector": {
   "cols": {
    "lenName": 16,
    "lenType": 16,
    "lenVar": 40
   },
   "kernels_config": {
    "python": {
     "delete_cmd_postfix": "",
     "delete_cmd_prefix": "del ",
     "library": "var_list.py",
     "varRefreshCmd": "print(var_dic_list())"
    },
    "r": {
     "delete_cmd_postfix": ") ",
     "delete_cmd_prefix": "rm(",
     "library": "var_list.r",
     "varRefreshCmd": "cat(var_dic_list()) "
    }
   },
   "types_to_exclude": [
    "module",
    "function",
    "builtin_function_or_method",
    "instance",
    "_Feature"
   ],
   "window_display": false
  }
 },
 "nbformat": 4,
 "nbformat_minor": 1
}
